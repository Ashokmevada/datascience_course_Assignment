{
 "cells": [
  {
   "cell_type": "code",
   "execution_count": 2,
   "metadata": {},
   "outputs": [
    {
     "name": "stdout",
     "output_type": "stream",
     "text": [
      "Tensorflow version 2.13.0\n",
      "Keras version 2.14.0\n"
     ]
    }
   ],
   "source": [
    "import tensorflow as tf\n",
    "import keras\n",
    "import pandas as pd\n",
    "import numpy as np\n",
    "import warnings\n",
    "from sklearn.model_selection import train_test_split\n",
    "from sklearn.preprocessing import StandardScaler\n",
    "\n",
    "warnings.filterwarnings('ignore')\n",
    "\n",
    "\n",
    "print( \"Tensorflow version\", tf.__version__)\n",
    "print( \"Keras version\", keras.__version__)"
   ]
  },
  {
   "cell_type": "code",
   "execution_count": 3,
   "metadata": {},
   "outputs": [
    {
     "data": {
      "text/html": [
       "<div>\n",
       "<style scoped>\n",
       "    .dataframe tbody tr th:only-of-type {\n",
       "        vertical-align: middle;\n",
       "    }\n",
       "\n",
       "    .dataframe tbody tr th {\n",
       "        vertical-align: top;\n",
       "    }\n",
       "\n",
       "    .dataframe thead th {\n",
       "        text-align: right;\n",
       "    }\n",
       "</style>\n",
       "<table border=\"1\" class=\"dataframe\">\n",
       "  <thead>\n",
       "    <tr style=\"text-align: right;\">\n",
       "      <th></th>\n",
       "      <th>fixed acidity</th>\n",
       "      <th>volatile acidity</th>\n",
       "      <th>citric acid</th>\n",
       "      <th>residual sugar</th>\n",
       "      <th>chlorides</th>\n",
       "      <th>free sulfur dioxide</th>\n",
       "      <th>total sulfur dioxide</th>\n",
       "      <th>density</th>\n",
       "      <th>pH</th>\n",
       "      <th>sulphates</th>\n",
       "      <th>alcohol</th>\n",
       "      <th>quality</th>\n",
       "    </tr>\n",
       "  </thead>\n",
       "  <tbody>\n",
       "    <tr>\n",
       "      <th>0</th>\n",
       "      <td>7.4</td>\n",
       "      <td>0.700</td>\n",
       "      <td>0.00</td>\n",
       "      <td>1.9</td>\n",
       "      <td>0.076</td>\n",
       "      <td>11.0</td>\n",
       "      <td>34.0</td>\n",
       "      <td>0.99780</td>\n",
       "      <td>3.51</td>\n",
       "      <td>0.56</td>\n",
       "      <td>9.4</td>\n",
       "      <td>bad</td>\n",
       "    </tr>\n",
       "    <tr>\n",
       "      <th>1</th>\n",
       "      <td>7.8</td>\n",
       "      <td>0.880</td>\n",
       "      <td>0.00</td>\n",
       "      <td>2.6</td>\n",
       "      <td>0.098</td>\n",
       "      <td>25.0</td>\n",
       "      <td>67.0</td>\n",
       "      <td>0.99680</td>\n",
       "      <td>3.20</td>\n",
       "      <td>0.68</td>\n",
       "      <td>9.8</td>\n",
       "      <td>bad</td>\n",
       "    </tr>\n",
       "    <tr>\n",
       "      <th>2</th>\n",
       "      <td>7.8</td>\n",
       "      <td>0.760</td>\n",
       "      <td>0.04</td>\n",
       "      <td>2.3</td>\n",
       "      <td>0.092</td>\n",
       "      <td>15.0</td>\n",
       "      <td>54.0</td>\n",
       "      <td>0.99700</td>\n",
       "      <td>3.26</td>\n",
       "      <td>0.65</td>\n",
       "      <td>9.8</td>\n",
       "      <td>bad</td>\n",
       "    </tr>\n",
       "    <tr>\n",
       "      <th>3</th>\n",
       "      <td>11.2</td>\n",
       "      <td>0.280</td>\n",
       "      <td>0.56</td>\n",
       "      <td>1.9</td>\n",
       "      <td>0.075</td>\n",
       "      <td>17.0</td>\n",
       "      <td>60.0</td>\n",
       "      <td>0.99800</td>\n",
       "      <td>3.16</td>\n",
       "      <td>0.58</td>\n",
       "      <td>9.8</td>\n",
       "      <td>good</td>\n",
       "    </tr>\n",
       "    <tr>\n",
       "      <th>4</th>\n",
       "      <td>7.4</td>\n",
       "      <td>0.700</td>\n",
       "      <td>0.00</td>\n",
       "      <td>1.9</td>\n",
       "      <td>0.076</td>\n",
       "      <td>11.0</td>\n",
       "      <td>34.0</td>\n",
       "      <td>0.99780</td>\n",
       "      <td>3.51</td>\n",
       "      <td>0.56</td>\n",
       "      <td>9.4</td>\n",
       "      <td>bad</td>\n",
       "    </tr>\n",
       "    <tr>\n",
       "      <th>...</th>\n",
       "      <td>...</td>\n",
       "      <td>...</td>\n",
       "      <td>...</td>\n",
       "      <td>...</td>\n",
       "      <td>...</td>\n",
       "      <td>...</td>\n",
       "      <td>...</td>\n",
       "      <td>...</td>\n",
       "      <td>...</td>\n",
       "      <td>...</td>\n",
       "      <td>...</td>\n",
       "      <td>...</td>\n",
       "    </tr>\n",
       "    <tr>\n",
       "      <th>1594</th>\n",
       "      <td>6.2</td>\n",
       "      <td>0.600</td>\n",
       "      <td>0.08</td>\n",
       "      <td>2.0</td>\n",
       "      <td>0.090</td>\n",
       "      <td>32.0</td>\n",
       "      <td>44.0</td>\n",
       "      <td>0.99490</td>\n",
       "      <td>3.45</td>\n",
       "      <td>0.58</td>\n",
       "      <td>10.5</td>\n",
       "      <td>bad</td>\n",
       "    </tr>\n",
       "    <tr>\n",
       "      <th>1595</th>\n",
       "      <td>5.9</td>\n",
       "      <td>0.550</td>\n",
       "      <td>0.10</td>\n",
       "      <td>2.2</td>\n",
       "      <td>0.062</td>\n",
       "      <td>39.0</td>\n",
       "      <td>51.0</td>\n",
       "      <td>0.99512</td>\n",
       "      <td>3.52</td>\n",
       "      <td>0.76</td>\n",
       "      <td>11.2</td>\n",
       "      <td>good</td>\n",
       "    </tr>\n",
       "    <tr>\n",
       "      <th>1596</th>\n",
       "      <td>6.3</td>\n",
       "      <td>0.510</td>\n",
       "      <td>0.13</td>\n",
       "      <td>2.3</td>\n",
       "      <td>0.076</td>\n",
       "      <td>29.0</td>\n",
       "      <td>40.0</td>\n",
       "      <td>0.99574</td>\n",
       "      <td>3.42</td>\n",
       "      <td>0.75</td>\n",
       "      <td>11.0</td>\n",
       "      <td>good</td>\n",
       "    </tr>\n",
       "    <tr>\n",
       "      <th>1597</th>\n",
       "      <td>5.9</td>\n",
       "      <td>0.645</td>\n",
       "      <td>0.12</td>\n",
       "      <td>2.0</td>\n",
       "      <td>0.075</td>\n",
       "      <td>32.0</td>\n",
       "      <td>44.0</td>\n",
       "      <td>0.99547</td>\n",
       "      <td>3.57</td>\n",
       "      <td>0.71</td>\n",
       "      <td>10.2</td>\n",
       "      <td>bad</td>\n",
       "    </tr>\n",
       "    <tr>\n",
       "      <th>1598</th>\n",
       "      <td>6.0</td>\n",
       "      <td>0.310</td>\n",
       "      <td>0.47</td>\n",
       "      <td>3.6</td>\n",
       "      <td>0.067</td>\n",
       "      <td>18.0</td>\n",
       "      <td>42.0</td>\n",
       "      <td>0.99549</td>\n",
       "      <td>3.39</td>\n",
       "      <td>0.66</td>\n",
       "      <td>11.0</td>\n",
       "      <td>good</td>\n",
       "    </tr>\n",
       "  </tbody>\n",
       "</table>\n",
       "<p>1599 rows × 12 columns</p>\n",
       "</div>"
      ],
      "text/plain": [
       "      fixed acidity  volatile acidity  citric acid  residual sugar  chlorides  \\\n",
       "0               7.4             0.700         0.00             1.9      0.076   \n",
       "1               7.8             0.880         0.00             2.6      0.098   \n",
       "2               7.8             0.760         0.04             2.3      0.092   \n",
       "3              11.2             0.280         0.56             1.9      0.075   \n",
       "4               7.4             0.700         0.00             1.9      0.076   \n",
       "...             ...               ...          ...             ...        ...   \n",
       "1594            6.2             0.600         0.08             2.0      0.090   \n",
       "1595            5.9             0.550         0.10             2.2      0.062   \n",
       "1596            6.3             0.510         0.13             2.3      0.076   \n",
       "1597            5.9             0.645         0.12             2.0      0.075   \n",
       "1598            6.0             0.310         0.47             3.6      0.067   \n",
       "\n",
       "      free sulfur dioxide  total sulfur dioxide  density    pH  sulphates  \\\n",
       "0                    11.0                  34.0  0.99780  3.51       0.56   \n",
       "1                    25.0                  67.0  0.99680  3.20       0.68   \n",
       "2                    15.0                  54.0  0.99700  3.26       0.65   \n",
       "3                    17.0                  60.0  0.99800  3.16       0.58   \n",
       "4                    11.0                  34.0  0.99780  3.51       0.56   \n",
       "...                   ...                   ...      ...   ...        ...   \n",
       "1594                 32.0                  44.0  0.99490  3.45       0.58   \n",
       "1595                 39.0                  51.0  0.99512  3.52       0.76   \n",
       "1596                 29.0                  40.0  0.99574  3.42       0.75   \n",
       "1597                 32.0                  44.0  0.99547  3.57       0.71   \n",
       "1598                 18.0                  42.0  0.99549  3.39       0.66   \n",
       "\n",
       "      alcohol quality  \n",
       "0         9.4     bad  \n",
       "1         9.8     bad  \n",
       "2         9.8     bad  \n",
       "3         9.8    good  \n",
       "4         9.4     bad  \n",
       "...       ...     ...  \n",
       "1594     10.5     bad  \n",
       "1595     11.2    good  \n",
       "1596     11.0    good  \n",
       "1597     10.2     bad  \n",
       "1598     11.0    good  \n",
       "\n",
       "[1599 rows x 12 columns]"
      ]
     },
     "execution_count": 3,
     "metadata": {},
     "output_type": "execute_result"
    }
   ],
   "source": [
    "df = pd.read_csv(\"wine.csv\")\n",
    "df"
   ]
  },
  {
   "cell_type": "code",
   "execution_count": 4,
   "metadata": {},
   "outputs": [
    {
     "data": {
      "text/plain": [
       "(1599, 12)"
      ]
     },
     "execution_count": 4,
     "metadata": {},
     "output_type": "execute_result"
    }
   ],
   "source": [
    "df.shape"
   ]
  },
  {
   "cell_type": "code",
   "execution_count": 5,
   "metadata": {},
   "outputs": [
    {
     "data": {
      "text/plain": [
       "fixed acidity           0\n",
       "volatile acidity        0\n",
       "citric acid             0\n",
       "residual sugar          0\n",
       "chlorides               0\n",
       "free sulfur dioxide     0\n",
       "total sulfur dioxide    0\n",
       "density                 0\n",
       "pH                      0\n",
       "sulphates               0\n",
       "alcohol                 0\n",
       "quality                 0\n",
       "dtype: int64"
      ]
     },
     "execution_count": 5,
     "metadata": {},
     "output_type": "execute_result"
    }
   ],
   "source": [
    "df.isnull().sum()"
   ]
  },
  {
   "cell_type": "code",
   "execution_count": 6,
   "metadata": {},
   "outputs": [
    {
     "name": "stdout",
     "output_type": "stream",
     "text": [
      "<class 'pandas.core.frame.DataFrame'>\n",
      "RangeIndex: 1599 entries, 0 to 1598\n",
      "Data columns (total 12 columns):\n",
      " #   Column                Non-Null Count  Dtype  \n",
      "---  ------                --------------  -----  \n",
      " 0   fixed acidity         1599 non-null   float64\n",
      " 1   volatile acidity      1599 non-null   float64\n",
      " 2   citric acid           1599 non-null   float64\n",
      " 3   residual sugar        1599 non-null   float64\n",
      " 4   chlorides             1599 non-null   float64\n",
      " 5   free sulfur dioxide   1599 non-null   float64\n",
      " 6   total sulfur dioxide  1599 non-null   float64\n",
      " 7   density               1599 non-null   float64\n",
      " 8   pH                    1599 non-null   float64\n",
      " 9   sulphates             1599 non-null   float64\n",
      " 10  alcohol               1599 non-null   float64\n",
      " 11  quality               1599 non-null   object \n",
      "dtypes: float64(11), object(1)\n",
      "memory usage: 150.0+ KB\n"
     ]
    }
   ],
   "source": [
    "df.info()"
   ]
  },
  {
   "cell_type": "code",
   "execution_count": 7,
   "metadata": {},
   "outputs": [
    {
     "data": {
      "text/plain": [
       "array(['bad', 'good'], dtype=object)"
      ]
     },
     "execution_count": 7,
     "metadata": {},
     "output_type": "execute_result"
    }
   ],
   "source": [
    "df['quality'].unique()"
   ]
  },
  {
   "cell_type": "code",
   "execution_count": 8,
   "metadata": {},
   "outputs": [],
   "source": [
    "df['quality'] = df['quality'].apply(lambda x : 1 if x == 'Good' else 0)"
   ]
  },
  {
   "cell_type": "code",
   "execution_count": 9,
   "metadata": {},
   "outputs": [
    {
     "name": "stdout",
     "output_type": "stream",
     "text": [
      "<class 'pandas.core.frame.DataFrame'>\n",
      "RangeIndex: 1599 entries, 0 to 1598\n",
      "Data columns (total 12 columns):\n",
      " #   Column                Non-Null Count  Dtype  \n",
      "---  ------                --------------  -----  \n",
      " 0   fixed acidity         1599 non-null   float64\n",
      " 1   volatile acidity      1599 non-null   float64\n",
      " 2   citric acid           1599 non-null   float64\n",
      " 3   residual sugar        1599 non-null   float64\n",
      " 4   chlorides             1599 non-null   float64\n",
      " 5   free sulfur dioxide   1599 non-null   float64\n",
      " 6   total sulfur dioxide  1599 non-null   float64\n",
      " 7   density               1599 non-null   float64\n",
      " 8   pH                    1599 non-null   float64\n",
      " 9   sulphates             1599 non-null   float64\n",
      " 10  alcohol               1599 non-null   float64\n",
      " 11  quality               1599 non-null   int64  \n",
      "dtypes: float64(11), int64(1)\n",
      "memory usage: 150.0 KB\n"
     ]
    }
   ],
   "source": [
    "df.info()"
   ]
  },
  {
   "cell_type": "code",
   "execution_count": 10,
   "metadata": {},
   "outputs": [],
   "source": [
    "y = df['quality']\n",
    "X = df.drop(columns=['quality'] , axis = 1)"
   ]
  },
  {
   "cell_type": "code",
   "execution_count": 11,
   "metadata": {},
   "outputs": [],
   "source": [
    "X_train , X_test , y_train , y_test = train_test_split(X , y , test_size=0.2 , random_state=4)"
   ]
  },
  {
   "cell_type": "code",
   "execution_count": 12,
   "metadata": {},
   "outputs": [
    {
     "data": {
      "text/html": [
       "<div>\n",
       "<style scoped>\n",
       "    .dataframe tbody tr th:only-of-type {\n",
       "        vertical-align: middle;\n",
       "    }\n",
       "\n",
       "    .dataframe tbody tr th {\n",
       "        vertical-align: top;\n",
       "    }\n",
       "\n",
       "    .dataframe thead th {\n",
       "        text-align: right;\n",
       "    }\n",
       "</style>\n",
       "<table border=\"1\" class=\"dataframe\">\n",
       "  <thead>\n",
       "    <tr style=\"text-align: right;\">\n",
       "      <th></th>\n",
       "      <th>fixed acidity</th>\n",
       "      <th>volatile acidity</th>\n",
       "      <th>citric acid</th>\n",
       "      <th>residual sugar</th>\n",
       "      <th>chlorides</th>\n",
       "      <th>free sulfur dioxide</th>\n",
       "      <th>total sulfur dioxide</th>\n",
       "      <th>density</th>\n",
       "      <th>pH</th>\n",
       "      <th>sulphates</th>\n",
       "      <th>alcohol</th>\n",
       "    </tr>\n",
       "  </thead>\n",
       "  <tbody>\n",
       "    <tr>\n",
       "      <th>68</th>\n",
       "      <td>9.3</td>\n",
       "      <td>0.320</td>\n",
       "      <td>0.57</td>\n",
       "      <td>2.0</td>\n",
       "      <td>0.074</td>\n",
       "      <td>27.0</td>\n",
       "      <td>65.0</td>\n",
       "      <td>0.99690</td>\n",
       "      <td>3.28</td>\n",
       "      <td>0.79</td>\n",
       "      <td>10.7</td>\n",
       "    </tr>\n",
       "    <tr>\n",
       "      <th>663</th>\n",
       "      <td>10.1</td>\n",
       "      <td>0.280</td>\n",
       "      <td>0.46</td>\n",
       "      <td>1.8</td>\n",
       "      <td>0.050</td>\n",
       "      <td>5.0</td>\n",
       "      <td>13.0</td>\n",
       "      <td>0.99740</td>\n",
       "      <td>3.04</td>\n",
       "      <td>0.79</td>\n",
       "      <td>10.2</td>\n",
       "    </tr>\n",
       "    <tr>\n",
       "      <th>76</th>\n",
       "      <td>8.8</td>\n",
       "      <td>0.410</td>\n",
       "      <td>0.64</td>\n",
       "      <td>2.2</td>\n",
       "      <td>0.093</td>\n",
       "      <td>9.0</td>\n",
       "      <td>42.0</td>\n",
       "      <td>0.99860</td>\n",
       "      <td>3.54</td>\n",
       "      <td>0.66</td>\n",
       "      <td>10.5</td>\n",
       "    </tr>\n",
       "    <tr>\n",
       "      <th>380</th>\n",
       "      <td>8.3</td>\n",
       "      <td>0.260</td>\n",
       "      <td>0.42</td>\n",
       "      <td>2.0</td>\n",
       "      <td>0.080</td>\n",
       "      <td>11.0</td>\n",
       "      <td>27.0</td>\n",
       "      <td>0.99740</td>\n",
       "      <td>3.21</td>\n",
       "      <td>0.80</td>\n",
       "      <td>9.4</td>\n",
       "    </tr>\n",
       "    <tr>\n",
       "      <th>761</th>\n",
       "      <td>9.3</td>\n",
       "      <td>0.655</td>\n",
       "      <td>0.26</td>\n",
       "      <td>2.0</td>\n",
       "      <td>0.096</td>\n",
       "      <td>5.0</td>\n",
       "      <td>35.0</td>\n",
       "      <td>0.99738</td>\n",
       "      <td>3.25</td>\n",
       "      <td>0.42</td>\n",
       "      <td>9.6</td>\n",
       "    </tr>\n",
       "    <tr>\n",
       "      <th>...</th>\n",
       "      <td>...</td>\n",
       "      <td>...</td>\n",
       "      <td>...</td>\n",
       "      <td>...</td>\n",
       "      <td>...</td>\n",
       "      <td>...</td>\n",
       "      <td>...</td>\n",
       "      <td>...</td>\n",
       "      <td>...</td>\n",
       "      <td>...</td>\n",
       "      <td>...</td>\n",
       "    </tr>\n",
       "    <tr>\n",
       "      <th>360</th>\n",
       "      <td>8.2</td>\n",
       "      <td>0.700</td>\n",
       "      <td>0.23</td>\n",
       "      <td>2.0</td>\n",
       "      <td>0.099</td>\n",
       "      <td>14.0</td>\n",
       "      <td>81.0</td>\n",
       "      <td>0.99730</td>\n",
       "      <td>3.19</td>\n",
       "      <td>0.70</td>\n",
       "      <td>9.4</td>\n",
       "    </tr>\n",
       "    <tr>\n",
       "      <th>709</th>\n",
       "      <td>9.7</td>\n",
       "      <td>0.310</td>\n",
       "      <td>0.47</td>\n",
       "      <td>1.6</td>\n",
       "      <td>0.062</td>\n",
       "      <td>13.0</td>\n",
       "      <td>33.0</td>\n",
       "      <td>0.99830</td>\n",
       "      <td>3.27</td>\n",
       "      <td>0.66</td>\n",
       "      <td>10.0</td>\n",
       "    </tr>\n",
       "    <tr>\n",
       "      <th>439</th>\n",
       "      <td>7.0</td>\n",
       "      <td>0.620</td>\n",
       "      <td>0.18</td>\n",
       "      <td>1.5</td>\n",
       "      <td>0.062</td>\n",
       "      <td>7.0</td>\n",
       "      <td>50.0</td>\n",
       "      <td>0.99510</td>\n",
       "      <td>3.08</td>\n",
       "      <td>0.60</td>\n",
       "      <td>9.3</td>\n",
       "    </tr>\n",
       "    <tr>\n",
       "      <th>174</th>\n",
       "      <td>7.3</td>\n",
       "      <td>0.380</td>\n",
       "      <td>0.21</td>\n",
       "      <td>2.0</td>\n",
       "      <td>0.080</td>\n",
       "      <td>7.0</td>\n",
       "      <td>35.0</td>\n",
       "      <td>0.99610</td>\n",
       "      <td>3.33</td>\n",
       "      <td>0.47</td>\n",
       "      <td>9.5</td>\n",
       "    </tr>\n",
       "    <tr>\n",
       "      <th>1146</th>\n",
       "      <td>7.8</td>\n",
       "      <td>0.500</td>\n",
       "      <td>0.12</td>\n",
       "      <td>1.8</td>\n",
       "      <td>0.178</td>\n",
       "      <td>6.0</td>\n",
       "      <td>21.0</td>\n",
       "      <td>0.99600</td>\n",
       "      <td>3.28</td>\n",
       "      <td>0.87</td>\n",
       "      <td>9.8</td>\n",
       "    </tr>\n",
       "  </tbody>\n",
       "</table>\n",
       "<p>1279 rows × 11 columns</p>\n",
       "</div>"
      ],
      "text/plain": [
       "      fixed acidity  volatile acidity  citric acid  residual sugar  chlorides  \\\n",
       "68              9.3             0.320         0.57             2.0      0.074   \n",
       "663            10.1             0.280         0.46             1.8      0.050   \n",
       "76              8.8             0.410         0.64             2.2      0.093   \n",
       "380             8.3             0.260         0.42             2.0      0.080   \n",
       "761             9.3             0.655         0.26             2.0      0.096   \n",
       "...             ...               ...          ...             ...        ...   \n",
       "360             8.2             0.700         0.23             2.0      0.099   \n",
       "709             9.7             0.310         0.47             1.6      0.062   \n",
       "439             7.0             0.620         0.18             1.5      0.062   \n",
       "174             7.3             0.380         0.21             2.0      0.080   \n",
       "1146            7.8             0.500         0.12             1.8      0.178   \n",
       "\n",
       "      free sulfur dioxide  total sulfur dioxide  density    pH  sulphates  \\\n",
       "68                   27.0                  65.0  0.99690  3.28       0.79   \n",
       "663                   5.0                  13.0  0.99740  3.04       0.79   \n",
       "76                    9.0                  42.0  0.99860  3.54       0.66   \n",
       "380                  11.0                  27.0  0.99740  3.21       0.80   \n",
       "761                   5.0                  35.0  0.99738  3.25       0.42   \n",
       "...                   ...                   ...      ...   ...        ...   \n",
       "360                  14.0                  81.0  0.99730  3.19       0.70   \n",
       "709                  13.0                  33.0  0.99830  3.27       0.66   \n",
       "439                   7.0                  50.0  0.99510  3.08       0.60   \n",
       "174                   7.0                  35.0  0.99610  3.33       0.47   \n",
       "1146                  6.0                  21.0  0.99600  3.28       0.87   \n",
       "\n",
       "      alcohol  \n",
       "68       10.7  \n",
       "663      10.2  \n",
       "76       10.5  \n",
       "380       9.4  \n",
       "761       9.6  \n",
       "...       ...  \n",
       "360       9.4  \n",
       "709      10.0  \n",
       "439       9.3  \n",
       "174       9.5  \n",
       "1146      9.8  \n",
       "\n",
       "[1279 rows x 11 columns]"
      ]
     },
     "execution_count": 12,
     "metadata": {},
     "output_type": "execute_result"
    }
   ],
   "source": [
    "X_train"
   ]
  },
  {
   "cell_type": "code",
   "execution_count": 13,
   "metadata": {},
   "outputs": [],
   "source": [
    "scaler = StandardScaler()\n",
    "\n",
    "scaler.fit(X_train)\n",
    "\n",
    "X_train = scaler.transform(X_train)\n",
    "\n",
    "X_test = scaler.transform(X_test)"
   ]
  },
  {
   "cell_type": "code",
   "execution_count": 14,
   "metadata": {},
   "outputs": [],
   "source": [
    "model = keras.Sequential([\n",
    "    keras.layers.Dense(256 , input_dim = X_train.shape[1] , activation='relu'),\n",
    "    keras.layers.Dense(128 , activation='relu'),\n",
    "    keras.layers.Dense( 64 , activation='relu'),\n",
    "    keras.layers.Dense( 1 , activation='sigmoid')\n",
    "])\n",
    "\n",
    "model.compile( optimizer='adam' , loss='binary_crossentropy' , metrics=['accuracy'])"
   ]
  },
  {
   "cell_type": "code",
   "execution_count": 15,
   "metadata": {},
   "outputs": [
    {
     "name": "stdout",
     "output_type": "stream",
     "text": [
      "Model: \"sequential\"\n",
      "_________________________________________________________________\n",
      " Layer (type)                Output Shape              Param #   \n",
      "=================================================================\n",
      " dense (Dense)               (None, 256)               3072      \n",
      "                                                                 \n",
      " dense_1 (Dense)             (None, 128)               32896     \n",
      "                                                                 \n",
      " dense_2 (Dense)             (None, 64)                8256      \n",
      "                                                                 \n",
      " dense_3 (Dense)             (None, 1)                 65        \n",
      "                                                                 \n",
      "=================================================================\n",
      "Total params: 44289 (173.00 KB)\n",
      "Trainable params: 44289 (173.00 KB)\n",
      "Non-trainable params: 0 (0.00 Byte)\n",
      "_________________________________________________________________\n"
     ]
    }
   ],
   "source": [
    "model.summary()"
   ]
  },
  {
   "cell_type": "code",
   "execution_count": 16,
   "metadata": {},
   "outputs": [],
   "source": [
    "X_train , X_val , y_train , y_val = train_test_split(X_train , y_train , test_size=0.3 , random_state=80)"
   ]
  },
  {
   "cell_type": "code",
   "execution_count": 17,
   "metadata": {},
   "outputs": [
    {
     "data": {
      "text/plain": [
       "((895, 11), (320, 11))"
      ]
     },
     "execution_count": 17,
     "metadata": {},
     "output_type": "execute_result"
    }
   ],
   "source": [
    "X_train.shape , X_test.shape"
   ]
  },
  {
   "cell_type": "code",
   "execution_count": 18,
   "metadata": {},
   "outputs": [],
   "source": [
    "# history = model.fit(X_train , y_train , epochs=30 , validation_data=(X_val , y_val) , batch_size=32)"
   ]
  },
  {
   "cell_type": "code",
   "execution_count": 19,
   "metadata": {},
   "outputs": [
    {
     "name": "stdout",
     "output_type": "stream",
     "text": [
      "Epoch 1/30\n"
     ]
    },
    {
     "name": "stdout",
     "output_type": "stream",
     "text": [
      "28/28 [==============================] - 2s 16ms/step - loss: 0.1805 - accuracy: 0.9687 - val_loss: 0.0034 - val_accuracy: 1.0000\n",
      "Epoch 2/30\n",
      "28/28 [==============================] - 0s 5ms/step - loss: 9.3497e-04 - accuracy: 1.0000 - val_loss: 4.7962e-04 - val_accuracy: 1.0000\n",
      "Epoch 3/30\n",
      "28/28 [==============================] - 0s 6ms/step - loss: 2.6404e-04 - accuracy: 1.0000 - val_loss: 3.2860e-04 - val_accuracy: 1.0000\n",
      "Epoch 4/30\n",
      "28/28 [==============================] - 0s 6ms/step - loss: 1.9013e-04 - accuracy: 1.0000 - val_loss: 2.5738e-04 - val_accuracy: 1.0000\n",
      "Epoch 5/30\n",
      "28/28 [==============================] - 0s 5ms/step - loss: 1.4386e-04 - accuracy: 1.0000 - val_loss: 2.0298e-04 - val_accuracy: 1.0000\n",
      "Epoch 6/30\n",
      "28/28 [==============================] - 0s 5ms/step - loss: 1.0923e-04 - accuracy: 1.0000 - val_loss: 1.5835e-04 - val_accuracy: 1.0000\n",
      "Epoch 7/30\n",
      "28/28 [==============================] - 0s 5ms/step - loss: 8.2433e-05 - accuracy: 1.0000 - val_loss: 1.2429e-04 - val_accuracy: 1.0000\n",
      "Epoch 8/30\n",
      "28/28 [==============================] - 0s 5ms/step - loss: 6.2781e-05 - accuracy: 1.0000 - val_loss: 9.8308e-05 - val_accuracy: 1.0000\n",
      "Epoch 9/30\n",
      "28/28 [==============================] - 0s 5ms/step - loss: 4.8230e-05 - accuracy: 1.0000 - val_loss: 7.9418e-05 - val_accuracy: 1.0000\n",
      "Epoch 10/30\n",
      "28/28 [==============================] - 0s 5ms/step - loss: 3.8064e-05 - accuracy: 1.0000 - val_loss: 6.4039e-05 - val_accuracy: 1.0000\n",
      "Epoch 11/30\n",
      "28/28 [==============================] - 0s 6ms/step - loss: 3.0117e-05 - accuracy: 1.0000 - val_loss: 5.3212e-05 - val_accuracy: 1.0000\n",
      "Epoch 12/30\n",
      "28/28 [==============================] - 0s 6ms/step - loss: 2.4457e-05 - accuracy: 1.0000 - val_loss: 4.4614e-05 - val_accuracy: 1.0000\n",
      "Epoch 13/30\n",
      "28/28 [==============================] - 0s 5ms/step - loss: 2.0084e-05 - accuracy: 1.0000 - val_loss: 3.8035e-05 - val_accuracy: 1.0000\n",
      "Epoch 14/30\n",
      "28/28 [==============================] - 0s 5ms/step - loss: 1.6779e-05 - accuracy: 1.0000 - val_loss: 3.2658e-05 - val_accuracy: 1.0000\n",
      "Epoch 15/30\n",
      "28/28 [==============================] - 0s 5ms/step - loss: 1.4131e-05 - accuracy: 1.0000 - val_loss: 2.8548e-05 - val_accuracy: 1.0000\n",
      "Epoch 16/30\n",
      "28/28 [==============================] - 0s 5ms/step - loss: 1.2155e-05 - accuracy: 1.0000 - val_loss: 2.4844e-05 - val_accuracy: 1.0000\n",
      "Epoch 17/30\n",
      "28/28 [==============================] - 0s 5ms/step - loss: 1.0466e-05 - accuracy: 1.0000 - val_loss: 2.1960e-05 - val_accuracy: 1.0000\n",
      "Epoch 18/30\n",
      "28/28 [==============================] - 0s 5ms/step - loss: 9.0654e-06 - accuracy: 1.0000 - val_loss: 1.9763e-05 - val_accuracy: 1.0000\n",
      "Epoch 19/30\n",
      "28/28 [==============================] - 0s 5ms/step - loss: 7.9713e-06 - accuracy: 1.0000 - val_loss: 1.7861e-05 - val_accuracy: 1.0000\n",
      "Epoch 20/30\n",
      "28/28 [==============================] - 0s 4ms/step - loss: 7.0686e-06 - accuracy: 1.0000 - val_loss: 1.6092e-05 - val_accuracy: 1.0000\n",
      "Epoch 21/30\n",
      "28/28 [==============================] - 0s 5ms/step - loss: 6.2874e-06 - accuracy: 1.0000 - val_loss: 1.4572e-05 - val_accuracy: 1.0000\n",
      "Epoch 22/30\n",
      "28/28 [==============================] - 0s 5ms/step - loss: 5.6298e-06 - accuracy: 1.0000 - val_loss: 1.3250e-05 - val_accuracy: 1.0000\n",
      "Epoch 23/30\n",
      "28/28 [==============================] - 0s 5ms/step - loss: 5.0730e-06 - accuracy: 1.0000 - val_loss: 1.2089e-05 - val_accuracy: 1.0000\n",
      "Epoch 24/30\n",
      "28/28 [==============================] - 0s 5ms/step - loss: 4.5801e-06 - accuracy: 1.0000 - val_loss: 1.1135e-05 - val_accuracy: 1.0000\n",
      "Epoch 25/30\n",
      "28/28 [==============================] - 0s 5ms/step - loss: 4.1589e-06 - accuracy: 1.0000 - val_loss: 1.0305e-05 - val_accuracy: 1.0000\n",
      "Epoch 26/30\n",
      "28/28 [==============================] - 0s 6ms/step - loss: 3.7974e-06 - accuracy: 1.0000 - val_loss: 9.5470e-06 - val_accuracy: 1.0000\n",
      "Epoch 27/30\n",
      "28/28 [==============================] - 0s 5ms/step - loss: 3.4753e-06 - accuracy: 1.0000 - val_loss: 8.8893e-06 - val_accuracy: 1.0000\n",
      "Epoch 28/30\n",
      "28/28 [==============================] - 0s 5ms/step - loss: 3.1979e-06 - accuracy: 1.0000 - val_loss: 8.2786e-06 - val_accuracy: 1.0000\n",
      "Epoch 29/30\n",
      "28/28 [==============================] - 0s 5ms/step - loss: 2.9468e-06 - accuracy: 1.0000 - val_loss: 7.7442e-06 - val_accuracy: 1.0000\n",
      "Epoch 30/30\n",
      "28/28 [==============================] - 0s 5ms/step - loss: 2.7228e-06 - accuracy: 1.0000 - val_loss: 7.2713e-06 - val_accuracy: 1.0000\n"
     ]
    }
   ],
   "source": [
    "import tensorflow as tf\n",
    "from tensorflow import keras\n",
    "\n",
    "model = keras.Sequential([\n",
    "    keras.layers.Dense(256, input_dim=X_train.shape[1], activation='relu'),\n",
    "    keras.layers.Dense(128, activation='relu'),\n",
    "    keras.layers.Dense(64, activation='relu'),\n",
    "    keras.layers.Dense(1, activation='sigmoid')\n",
    "])\n",
    "\n",
    "model.compile(optimizer='adam', loss='binary_crossentropy', metrics=['accuracy'])\n",
    "\n",
    "\n",
    "history = model.fit(X_train, y_train, epochs=30, validation_data=(X_val, y_val), batch_size=32)\n"
   ]
  },
  {
   "cell_type": "markdown",
   "metadata": {},
   "source": [
    "# Tensorboard"
   ]
  },
  {
   "cell_type": "code",
   "execution_count": 21,
   "metadata": {},
   "outputs": [],
   "source": [
    "import time\n",
    "import os\n",
    "from tensorflow.keras.callbacks import TensorBoard"
   ]
  },
  {
   "cell_type": "code",
   "execution_count": 22,
   "metadata": {},
   "outputs": [
    {
     "name": "stdout",
     "output_type": "stream",
     "text": [
      "Saving logs at logs/fit\\log_2023_10_22_11_21_07\n"
     ]
    }
   ],
   "source": [
    "def get_log_path(log_dir = \"logs/fit\"):\n",
    "    filename = time.strftime(\"log_%Y_%m_%d_%H_%M_%S\")\n",
    "    logs_path = os.path.join(log_dir, filename)\n",
    "    print(f\"Saving logs at {logs_path}\")\n",
    "    return logs_path\n",
    "\n",
    "log_dir = get_log_path()\n",
    "tb_cb = TensorBoard(log_dir=log_dir)"
   ]
  },
  {
   "cell_type": "markdown",
   "metadata": {},
   "source": [
    "# Early Stopping callback"
   ]
  },
  {
   "cell_type": "code",
   "execution_count": 23,
   "metadata": {},
   "outputs": [],
   "source": [
    "early_st_cb = tf.keras.callbacks.EarlyStopping(patience=5 , restore_best_weights=True , monitor='val_loss')"
   ]
  },
  {
   "cell_type": "markdown",
   "metadata": {},
   "source": [
    "# Model Checkpoint Callback"
   ]
  },
  {
   "cell_type": "code",
   "execution_count": 24,
   "metadata": {},
   "outputs": [],
   "source": [
    "ckpt_path = \"Model_ckpt.h5\"\n",
    "checkpointing_cb = tf.keras.callbacks.ModelCheckpoint(ckpt_path , save_best_only=True)"
   ]
  },
  {
   "cell_type": "code",
   "execution_count": 27,
   "metadata": {},
   "outputs": [
    {
     "name": "stdout",
     "output_type": "stream",
     "text": [
      "Epoch 1/30\n",
      "28/28 [==============================] - 0s 7ms/step - loss: 3.7328e-07 - accuracy: 1.0000 - val_loss: 1.4050e-06 - val_accuracy: 1.0000\n",
      "Epoch 2/30\n",
      "28/28 [==============================] - 0s 5ms/step - loss: 3.6089e-07 - accuracy: 1.0000 - val_loss: 1.3701e-06 - val_accuracy: 1.0000\n",
      "Epoch 3/30\n",
      "28/28 [==============================] - 0s 5ms/step - loss: 3.5005e-07 - accuracy: 1.0000 - val_loss: 1.3272e-06 - val_accuracy: 1.0000\n",
      "Epoch 4/30\n",
      "28/28 [==============================] - 0s 5ms/step - loss: 3.3783e-07 - accuracy: 1.0000 - val_loss: 1.2958e-06 - val_accuracy: 1.0000\n",
      "Epoch 5/30\n",
      "28/28 [==============================] - 0s 6ms/step - loss: 3.2751e-07 - accuracy: 1.0000 - val_loss: 1.2609e-06 - val_accuracy: 1.0000\n",
      "Epoch 6/30\n",
      "28/28 [==============================] - 0s 5ms/step - loss: 3.1758e-07 - accuracy: 1.0000 - val_loss: 1.2258e-06 - val_accuracy: 1.0000\n",
      "Epoch 7/30\n",
      "28/28 [==============================] - 0s 5ms/step - loss: 3.0708e-07 - accuracy: 1.0000 - val_loss: 1.1982e-06 - val_accuracy: 1.0000\n",
      "Epoch 8/30\n",
      "28/28 [==============================] - 0s 5ms/step - loss: 2.9852e-07 - accuracy: 1.0000 - val_loss: 1.1644e-06 - val_accuracy: 1.0000\n",
      "Epoch 9/30\n",
      "28/28 [==============================] - 0s 5ms/step - loss: 2.8921e-07 - accuracy: 1.0000 - val_loss: 1.1339e-06 - val_accuracy: 1.0000\n",
      "Epoch 10/30\n",
      "28/28 [==============================] - 0s 5ms/step - loss: 2.8011e-07 - accuracy: 1.0000 - val_loss: 1.1065e-06 - val_accuracy: 1.0000\n",
      "Epoch 11/30\n",
      "28/28 [==============================] - 0s 5ms/step - loss: 2.7191e-07 - accuracy: 1.0000 - val_loss: 1.0796e-06 - val_accuracy: 1.0000\n",
      "Epoch 12/30\n",
      "28/28 [==============================] - 0s 5ms/step - loss: 2.6409e-07 - accuracy: 1.0000 - val_loss: 1.0528e-06 - val_accuracy: 1.0000\n",
      "Epoch 13/30\n",
      "28/28 [==============================] - 0s 5ms/step - loss: 2.5615e-07 - accuracy: 1.0000 - val_loss: 1.0281e-06 - val_accuracy: 1.0000\n",
      "Epoch 14/30\n",
      "28/28 [==============================] - 0s 5ms/step - loss: 2.4884e-07 - accuracy: 1.0000 - val_loss: 1.0042e-06 - val_accuracy: 1.0000\n",
      "Epoch 15/30\n",
      "28/28 [==============================] - 0s 4ms/step - loss: 2.4157e-07 - accuracy: 1.0000 - val_loss: 9.8493e-07 - val_accuracy: 1.0000\n",
      "Epoch 16/30\n",
      "28/28 [==============================] - 0s 5ms/step - loss: 2.3537e-07 - accuracy: 1.0000 - val_loss: 9.5806e-07 - val_accuracy: 1.0000\n",
      "Epoch 17/30\n",
      "28/28 [==============================] - 0s 5ms/step - loss: 2.2811e-07 - accuracy: 1.0000 - val_loss: 9.3784e-07 - val_accuracy: 1.0000\n",
      "Epoch 18/30\n",
      "28/28 [==============================] - 0s 5ms/step - loss: 2.2242e-07 - accuracy: 1.0000 - val_loss: 9.1278e-07 - val_accuracy: 1.0000\n",
      "Epoch 19/30\n",
      "28/28 [==============================] - 0s 5ms/step - loss: 2.1586e-07 - accuracy: 1.0000 - val_loss: 8.9177e-07 - val_accuracy: 1.0000\n",
      "Epoch 20/30\n",
      "28/28 [==============================] - 0s 5ms/step - loss: 2.0970e-07 - accuracy: 1.0000 - val_loss: 8.7450e-07 - val_accuracy: 1.0000\n",
      "Epoch 21/30\n",
      "28/28 [==============================] - 0s 5ms/step - loss: 2.0437e-07 - accuracy: 1.0000 - val_loss: 8.5327e-07 - val_accuracy: 1.0000\n",
      "Epoch 22/30\n",
      "28/28 [==============================] - 0s 5ms/step - loss: 1.9867e-07 - accuracy: 1.0000 - val_loss: 8.3485e-07 - val_accuracy: 1.0000\n",
      "Epoch 23/30\n",
      "28/28 [==============================] - 0s 5ms/step - loss: 1.9366e-07 - accuracy: 1.0000 - val_loss: 8.1512e-07 - val_accuracy: 1.0000\n",
      "Epoch 24/30\n",
      "28/28 [==============================] - 0s 5ms/step - loss: 1.8802e-07 - accuracy: 1.0000 - val_loss: 8.0035e-07 - val_accuracy: 1.0000\n",
      "Epoch 25/30\n",
      "28/28 [==============================] - 0s 5ms/step - loss: 1.8331e-07 - accuracy: 1.0000 - val_loss: 7.8315e-07 - val_accuracy: 1.0000\n",
      "Epoch 26/30\n",
      "28/28 [==============================] - 0s 5ms/step - loss: 1.7849e-07 - accuracy: 1.0000 - val_loss: 7.6779e-07 - val_accuracy: 1.0000\n",
      "Epoch 27/30\n",
      "28/28 [==============================] - 0s 5ms/step - loss: 1.7407e-07 - accuracy: 1.0000 - val_loss: 7.4908e-07 - val_accuracy: 1.0000\n",
      "Epoch 28/30\n",
      "28/28 [==============================] - 0s 5ms/step - loss: 1.6944e-07 - accuracy: 1.0000 - val_loss: 7.3298e-07 - val_accuracy: 1.0000\n",
      "Epoch 29/30\n",
      "28/28 [==============================] - 0s 5ms/step - loss: 1.6507e-07 - accuracy: 1.0000 - val_loss: 7.1823e-07 - val_accuracy: 1.0000\n",
      "Epoch 30/30\n",
      "28/28 [==============================] - 0s 5ms/step - loss: 1.6132e-07 - accuracy: 1.0000 - val_loss: 7.0096e-07 - val_accuracy: 1.0000\n"
     ]
    }
   ],
   "source": [
    "history = model.fit(X_train , y_train , epochs=30 ,validation_data=(X_val, y_val), batch_size=32 , callbacks=[tb_cb , early_st_cb , checkpointing_cb])"
   ]
  },
  {
   "cell_type": "code",
   "execution_count": 28,
   "metadata": {},
   "outputs": [
    {
     "name": "stdout",
     "output_type": "stream",
     "text": [
      "Model Model_2023_10_22_11_36_47_.h5 will be saved at trained_model\\Model_2023_10_22_11_36_47_.h5\n"
     ]
    },
    {
     "data": {
      "text/plain": [
       "'trained_model\\\\Model_2023_10_22_11_36_47_.h5'"
      ]
     },
     "execution_count": 28,
     "metadata": {},
     "output_type": "execute_result"
    }
   ],
   "source": [
    "def save_model_path(Model_dir = \"trained_model\"):\n",
    "    os.makedirs(Model_dir , exist_ok=True)\n",
    "    filename = time.strftime(\"Model_%Y_%m_%d_%H_%M_%S_.h5\")\n",
    "    model_path = os.path.join(Model_dir , filename )\n",
    "    print(f\"Model {filename} will be saved at {model_path}\")\n",
    "    return model_path\n",
    "\n",
    "unique_path = save_model_path()\n",
    "unique_path"
   ]
  },
  {
   "cell_type": "code",
   "execution_count": 30,
   "metadata": {},
   "outputs": [],
   "source": [
    "tf.keras.models.save_model(model , unique_path)"
   ]
  },
  {
   "cell_type": "code",
   "execution_count": 31,
   "metadata": {},
   "outputs": [
    {
     "data": {
      "text/html": [
       "<div>\n",
       "<style scoped>\n",
       "    .dataframe tbody tr th:only-of-type {\n",
       "        vertical-align: middle;\n",
       "    }\n",
       "\n",
       "    .dataframe tbody tr th {\n",
       "        vertical-align: top;\n",
       "    }\n",
       "\n",
       "    .dataframe thead th {\n",
       "        text-align: right;\n",
       "    }\n",
       "</style>\n",
       "<table border=\"1\" class=\"dataframe\">\n",
       "  <thead>\n",
       "    <tr style=\"text-align: right;\">\n",
       "      <th></th>\n",
       "      <th>loss</th>\n",
       "      <th>accuracy</th>\n",
       "      <th>val_loss</th>\n",
       "      <th>val_accuracy</th>\n",
       "    </tr>\n",
       "  </thead>\n",
       "  <tbody>\n",
       "    <tr>\n",
       "      <th>0</th>\n",
       "      <td>3.732818e-07</td>\n",
       "      <td>1.0</td>\n",
       "      <td>1.404978e-06</td>\n",
       "      <td>1.0</td>\n",
       "    </tr>\n",
       "    <tr>\n",
       "      <th>1</th>\n",
       "      <td>3.608908e-07</td>\n",
       "      <td>1.0</td>\n",
       "      <td>1.370050e-06</td>\n",
       "      <td>1.0</td>\n",
       "    </tr>\n",
       "    <tr>\n",
       "      <th>2</th>\n",
       "      <td>3.500513e-07</td>\n",
       "      <td>1.0</td>\n",
       "      <td>1.327208e-06</td>\n",
       "      <td>1.0</td>\n",
       "    </tr>\n",
       "    <tr>\n",
       "      <th>3</th>\n",
       "      <td>3.378307e-07</td>\n",
       "      <td>1.0</td>\n",
       "      <td>1.295776e-06</td>\n",
       "      <td>1.0</td>\n",
       "    </tr>\n",
       "    <tr>\n",
       "      <th>4</th>\n",
       "      <td>3.275100e-07</td>\n",
       "      <td>1.0</td>\n",
       "      <td>1.260892e-06</td>\n",
       "      <td>1.0</td>\n",
       "    </tr>\n",
       "    <tr>\n",
       "      <th>5</th>\n",
       "      <td>3.175834e-07</td>\n",
       "      <td>1.0</td>\n",
       "      <td>1.225788e-06</td>\n",
       "      <td>1.0</td>\n",
       "    </tr>\n",
       "    <tr>\n",
       "      <th>6</th>\n",
       "      <td>3.070755e-07</td>\n",
       "      <td>1.0</td>\n",
       "      <td>1.198233e-06</td>\n",
       "      <td>1.0</td>\n",
       "    </tr>\n",
       "    <tr>\n",
       "      <th>7</th>\n",
       "      <td>2.985194e-07</td>\n",
       "      <td>1.0</td>\n",
       "      <td>1.164447e-06</td>\n",
       "      <td>1.0</td>\n",
       "    </tr>\n",
       "    <tr>\n",
       "      <th>8</th>\n",
       "      <td>2.892117e-07</td>\n",
       "      <td>1.0</td>\n",
       "      <td>1.133868e-06</td>\n",
       "      <td>1.0</td>\n",
       "    </tr>\n",
       "    <tr>\n",
       "      <th>9</th>\n",
       "      <td>2.801109e-07</td>\n",
       "      <td>1.0</td>\n",
       "      <td>1.106491e-06</td>\n",
       "      <td>1.0</td>\n",
       "    </tr>\n",
       "    <tr>\n",
       "      <th>10</th>\n",
       "      <td>2.719104e-07</td>\n",
       "      <td>1.0</td>\n",
       "      <td>1.079597e-06</td>\n",
       "      <td>1.0</td>\n",
       "    </tr>\n",
       "    <tr>\n",
       "      <th>11</th>\n",
       "      <td>2.640863e-07</td>\n",
       "      <td>1.0</td>\n",
       "      <td>1.052812e-06</td>\n",
       "      <td>1.0</td>\n",
       "    </tr>\n",
       "    <tr>\n",
       "      <th>12</th>\n",
       "      <td>2.561505e-07</td>\n",
       "      <td>1.0</td>\n",
       "      <td>1.028135e-06</td>\n",
       "      <td>1.0</td>\n",
       "    </tr>\n",
       "    <tr>\n",
       "      <th>13</th>\n",
       "      <td>2.488351e-07</td>\n",
       "      <td>1.0</td>\n",
       "      <td>1.004201e-06</td>\n",
       "      <td>1.0</td>\n",
       "    </tr>\n",
       "    <tr>\n",
       "      <th>14</th>\n",
       "      <td>2.415709e-07</td>\n",
       "      <td>1.0</td>\n",
       "      <td>9.849277e-07</td>\n",
       "      <td>1.0</td>\n",
       "    </tr>\n",
       "    <tr>\n",
       "      <th>15</th>\n",
       "      <td>2.353713e-07</td>\n",
       "      <td>1.0</td>\n",
       "      <td>9.580607e-07</td>\n",
       "      <td>1.0</td>\n",
       "    </tr>\n",
       "    <tr>\n",
       "      <th>16</th>\n",
       "      <td>2.281064e-07</td>\n",
       "      <td>1.0</td>\n",
       "      <td>9.378371e-07</td>\n",
       "      <td>1.0</td>\n",
       "    </tr>\n",
       "    <tr>\n",
       "      <th>17</th>\n",
       "      <td>2.224237e-07</td>\n",
       "      <td>1.0</td>\n",
       "      <td>9.127769e-07</td>\n",
       "      <td>1.0</td>\n",
       "    </tr>\n",
       "    <tr>\n",
       "      <th>18</th>\n",
       "      <td>2.158595e-07</td>\n",
       "      <td>1.0</td>\n",
       "      <td>8.917651e-07</td>\n",
       "      <td>1.0</td>\n",
       "    </tr>\n",
       "    <tr>\n",
       "      <th>19</th>\n",
       "      <td>2.096975e-07</td>\n",
       "      <td>1.0</td>\n",
       "      <td>8.744973e-07</td>\n",
       "      <td>1.0</td>\n",
       "    </tr>\n",
       "    <tr>\n",
       "      <th>20</th>\n",
       "      <td>2.043691e-07</td>\n",
       "      <td>1.0</td>\n",
       "      <td>8.532680e-07</td>\n",
       "      <td>1.0</td>\n",
       "    </tr>\n",
       "    <tr>\n",
       "      <th>21</th>\n",
       "      <td>1.986709e-07</td>\n",
       "      <td>1.0</td>\n",
       "      <td>8.348493e-07</td>\n",
       "      <td>1.0</td>\n",
       "    </tr>\n",
       "    <tr>\n",
       "      <th>22</th>\n",
       "      <td>1.936592e-07</td>\n",
       "      <td>1.0</td>\n",
       "      <td>8.151207e-07</td>\n",
       "      <td>1.0</td>\n",
       "    </tr>\n",
       "    <tr>\n",
       "      <th>23</th>\n",
       "      <td>1.880187e-07</td>\n",
       "      <td>1.0</td>\n",
       "      <td>8.003480e-07</td>\n",
       "      <td>1.0</td>\n",
       "    </tr>\n",
       "    <tr>\n",
       "      <th>24</th>\n",
       "      <td>1.833065e-07</td>\n",
       "      <td>1.0</td>\n",
       "      <td>7.831511e-07</td>\n",
       "      <td>1.0</td>\n",
       "    </tr>\n",
       "    <tr>\n",
       "      <th>25</th>\n",
       "      <td>1.784935e-07</td>\n",
       "      <td>1.0</td>\n",
       "      <td>7.677888e-07</td>\n",
       "      <td>1.0</td>\n",
       "    </tr>\n",
       "    <tr>\n",
       "      <th>26</th>\n",
       "      <td>1.740702e-07</td>\n",
       "      <td>1.0</td>\n",
       "      <td>7.490781e-07</td>\n",
       "      <td>1.0</td>\n",
       "    </tr>\n",
       "    <tr>\n",
       "      <th>27</th>\n",
       "      <td>1.694381e-07</td>\n",
       "      <td>1.0</td>\n",
       "      <td>7.329815e-07</td>\n",
       "      <td>1.0</td>\n",
       "    </tr>\n",
       "    <tr>\n",
       "      <th>28</th>\n",
       "      <td>1.650697e-07</td>\n",
       "      <td>1.0</td>\n",
       "      <td>7.182269e-07</td>\n",
       "      <td>1.0</td>\n",
       "    </tr>\n",
       "    <tr>\n",
       "      <th>29</th>\n",
       "      <td>1.613194e-07</td>\n",
       "      <td>1.0</td>\n",
       "      <td>7.009625e-07</td>\n",
       "      <td>1.0</td>\n",
       "    </tr>\n",
       "  </tbody>\n",
       "</table>\n",
       "</div>"
      ],
      "text/plain": [
       "            loss  accuracy      val_loss  val_accuracy\n",
       "0   3.732818e-07       1.0  1.404978e-06           1.0\n",
       "1   3.608908e-07       1.0  1.370050e-06           1.0\n",
       "2   3.500513e-07       1.0  1.327208e-06           1.0\n",
       "3   3.378307e-07       1.0  1.295776e-06           1.0\n",
       "4   3.275100e-07       1.0  1.260892e-06           1.0\n",
       "5   3.175834e-07       1.0  1.225788e-06           1.0\n",
       "6   3.070755e-07       1.0  1.198233e-06           1.0\n",
       "7   2.985194e-07       1.0  1.164447e-06           1.0\n",
       "8   2.892117e-07       1.0  1.133868e-06           1.0\n",
       "9   2.801109e-07       1.0  1.106491e-06           1.0\n",
       "10  2.719104e-07       1.0  1.079597e-06           1.0\n",
       "11  2.640863e-07       1.0  1.052812e-06           1.0\n",
       "12  2.561505e-07       1.0  1.028135e-06           1.0\n",
       "13  2.488351e-07       1.0  1.004201e-06           1.0\n",
       "14  2.415709e-07       1.0  9.849277e-07           1.0\n",
       "15  2.353713e-07       1.0  9.580607e-07           1.0\n",
       "16  2.281064e-07       1.0  9.378371e-07           1.0\n",
       "17  2.224237e-07       1.0  9.127769e-07           1.0\n",
       "18  2.158595e-07       1.0  8.917651e-07           1.0\n",
       "19  2.096975e-07       1.0  8.744973e-07           1.0\n",
       "20  2.043691e-07       1.0  8.532680e-07           1.0\n",
       "21  1.986709e-07       1.0  8.348493e-07           1.0\n",
       "22  1.936592e-07       1.0  8.151207e-07           1.0\n",
       "23  1.880187e-07       1.0  8.003480e-07           1.0\n",
       "24  1.833065e-07       1.0  7.831511e-07           1.0\n",
       "25  1.784935e-07       1.0  7.677888e-07           1.0\n",
       "26  1.740702e-07       1.0  7.490781e-07           1.0\n",
       "27  1.694381e-07       1.0  7.329815e-07           1.0\n",
       "28  1.650697e-07       1.0  7.182269e-07           1.0\n",
       "29  1.613194e-07       1.0  7.009625e-07           1.0"
      ]
     },
     "execution_count": 31,
     "metadata": {},
     "output_type": "execute_result"
    }
   ],
   "source": [
    "pd.DataFrame(history.history)"
   ]
  },
  {
   "cell_type": "code",
   "execution_count": 32,
   "metadata": {},
   "outputs": [
    {
     "data": {
      "text/plain": [
       "<Axes: >"
      ]
     },
     "execution_count": 32,
     "metadata": {},
     "output_type": "execute_result"
    },
    {
     "data": {
      "image/png": "[encoded data removed]",
      "text/plain": [
       "<Figure size 640x480 with 1 Axes>"
      ]
     },
     "metadata": {},
     "output_type": "display_data"
    }
   ],
   "source": [
    "pd.DataFrame(history.history).plot()"
   ]
  },
  {
   "cell_type": "code",
   "execution_count": 33,
   "metadata": {},
   "outputs": [
    {
     "name": "stdout",
     "output_type": "stream",
     "text": [
      "10/10 [==============================] - 0s 1ms/step - loss: 1.5361e-07 - accuracy: 1.0000\n"
     ]
    },
    {
     "data": {
      "text/plain": [
       "[1.536053559902939e-07, 1.0]"
      ]
     },
     "execution_count": 33,
     "metadata": {},
     "output_type": "execute_result"
    }
   ],
   "source": [
    "model.evaluate(X_test , y_test)"
   ]
  },
  {
   "cell_type": "code",
   "execution_count": 35,
   "metadata": {},
   "outputs": [],
   "source": [
    "%load_ext tensorboard"
   ]
  },
  {
   "cell_type": "code",
   "execution_count": 36,
   "metadata": {},
   "outputs": [
    {
     "data": {
      "text/html": [
       "\n",
       "      <iframe id=\"tensorboard-frame-3df68028e51ce44f\" width=\"100%\" height=\"800\" frameborder=\"0\">\n",
       "      </iframe>\n",
       "      <script>\n",
       "        (function() {\n",
       "          const frame = document.getElementById(\"tensorboard-frame-3df68028e51ce44f\");\n",
       "          const url = new URL(\"/\", window.location);\n",
       "          const port = 6006;\n",
       "          if (port) {\n",
       "            url.port = port;\n",
       "          }\n",
       "          frame.src = url;\n",
       "        })();\n",
       "      </script>\n",
       "    "
      ],
      "text/plain": [
       "<IPython.core.display.HTML object>"
      ]
     },
     "metadata": {},
     "output_type": "display_data"
    }
   ],
   "source": [
    "%tensorboard --logdir logs/fit"
   ]
  },
  {
   "cell_type": "code",
   "execution_count": 37,
   "metadata": {},
   "outputs": [
    {
     "name": "stdout",
     "output_type": "stream",
     "text": [
      "Model: \"sequential_1\"\n",
      "_________________________________________________________________\n",
      " Layer (type)                Output Shape              Param #   \n",
      "=================================================================\n",
      " dense_4 (Dense)             (None, 256)               3072      \n",
      "                                                                 \n",
      " dense_5 (Dense)             (None, 128)               32896     \n",
      "                                                                 \n",
      " dense_6 (Dense)             (None, 64)                8256      \n",
      "                                                                 \n",
      " dense_7 (Dense)             (None, 1)                 65        \n",
      "                                                                 \n",
      "=================================================================\n",
      "Total params: 44289 (173.00 KB)\n",
      "Trainable params: 44289 (173.00 KB)\n",
      "Non-trainable params: 0 (0.00 Byte)\n",
      "_________________________________________________________________\n"
     ]
    }
   ],
   "source": [
    "model.summary()"
   ]
  },
  {
   "cell_type": "code",
   "execution_count": null,
   "metadata": {},
   "outputs": [],
   "source": []
  }
 ],
 "metadata": {
  "kernelspec": {
   "display_name": "Python 3",
   "language": "python",
   "name": "python3"
  },
  "language_info": {
   "codemirror_mode": {
    "name": "ipython",
    "version": 3
   },
   "file_extension": ".py",
   "mimetype": "text/x-python",
   "name": "python",
   "nbconvert_exporter": "python",
   "pygments_lexer": "ipython3",
   "version": "3.11.4"
  }
 },
 "nbformat": 4,
 "nbformat_minor": 2
}
