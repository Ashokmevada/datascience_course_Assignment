{
 "cells": [
  {
   "cell_type": "markdown",
   "metadata": {},
   "source": [
    "### Q1. What is multiprocessing in Python? Why is it useful?\n",
    "Answer\n",
    "Multiprocessing in Python is a module that allows the creation and management of multiple processes, enabling parallel execution of tasks. It is particularly useful for CPU-bound tasks as it bypasses the Global Interpreter Lock (GIL) and takes advantage of multiple CPU cores.\n"
   ]
  },
  {
   "cell_type": "markdown",
   "metadata": {},
   "source": [
    "### Q2. What are the differences between multiprocessing and multithreading?\n",
    "| Feature               | Multiprocessing                                  | Multithreading                                  |\n",
    "|-----------------------|------------------------------------------------|------------------------------------------------|\n",
    "| Concurrency Model     | Runs multiple processes, each with its own memory space. | Runs multiple threads within the same process and memory space. |\n",
    "| GIL Limitation        | Not affected by the GIL, suitable for CPU-bound tasks. | Affected by the GIL, suitable for I/O-bound tasks.             |\n",
    "| Memory Usage          | Higher memory usage as each process has its own memory. | Lower memory usage as threads share memory.      |\n",
    "| Communication Overhead| Higher, as processes do not share memory by default. | Lower, as threads can easily share data.        |\n"
   ]
  },
  {
   "cell_type": "code",
   "execution_count": 1,
   "metadata": {},
   "outputs": [],
   "source": [
    "# Q3\n",
    "import multiprocessing\n",
    "\n",
    "def print_message():\n",
    "    print(\"Hello from a process!\")\n",
    "\n",
    "if __name__ == \"__main__\":\n",
    "    process = multiprocessing.Process(target=print_message)\n",
    "    process.start()\n",
    "    process.join()"
   ]
  },
  {
   "cell_type": "markdown",
   "metadata": {},
   "source": []
  },
  {
   "cell_type": "markdown",
   "metadata": {},
   "source": [
    "### Q4. What is a multiprocessing pool in Python? Why is it used?\n",
    "Answer\n",
    "A multiprocessing pool in Python is a collection of worker processes that can execute multiple tasks in parallel. It is used to manage and distribute tasks among worker processes efficiently, especially when dealing with a large number of independent tasks.\n"
   ]
  },
  {
   "cell_type": "markdown",
   "metadata": {},
   "source": [
    "### Q5. How can we create a pool of worker processes in Python using the multiprocessing module?\n",
    "Answer\n",
    "You can create a pool of worker processes using the `Pool` class in the `multiprocessing` module. The `map` or `apply` methods can be used to distribute tasks among the workers.\n"
   ]
  },
  {
   "cell_type": "code",
   "execution_count": 2,
   "metadata": {},
   "outputs": [],
   "source": [
    "import multiprocessing\n",
    "\n",
    "def square(n):\n",
    "    return n ** 2\n",
    "\n",
    "if __name__ == \"__main__\":\n",
    "    numbers = [1, 2, 3, 4, 5]\n",
    "    with multiprocessing.Pool(processes=4) as pool:\n",
    "        results = pool.map(square, numbers)\n",
    "    print(results)"
   ]
  },
  {
   "cell_type": "code",
   "execution_count": 1,
   "metadata": {},
   "outputs": [],
   "source": [
    "# Q6\n",
    "import multiprocessing\n",
    "\n",
    "def print_number(number):\n",
    "    print(f\"Process {multiprocessing.current_process().name} printing: {number}\")\n",
    "\n",
    "if __name__ == \"__main__\":\n",
    "    processes = []\n",
    "    numbers = [10, 20, 30, 40]\n",
    "\n",
    "    for number in numbers:\n",
    "        process = multiprocessing.Process(target=print_number, args=(number,))\n",
    "        processes.append(process)\n",
    "        process.start()\n",
    "\n",
    "    for process in processes:\n",
    "        process.join()"
   ]
  },
  {
   "cell_type": "markdown",
   "metadata": {},
   "source": []
  },
  {
   "cell_type": "markdown",
   "metadata": {},
   "source": []
  }
 ],
 "metadata": {
  "kernelspec": {
   "display_name": "Python 3",
   "language": "python",
   "name": "python3"
  },
  "language_info": {
   "codemirror_mode": {
    "name": "ipython",
    "version": 3
   },
   "file_extension": ".py",
   "mimetype": "text/x-python",
   "name": "python",
   "nbconvert_exporter": "python",
   "pygments_lexer": "ipython3",
   "version": "3.12.1"
  }
 },
 "nbformat": 4,
 "nbformat_minor": 2
}
