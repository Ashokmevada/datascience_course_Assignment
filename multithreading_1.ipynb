{
 "cells": [
  {
   "cell_type": "markdown",
   "metadata": {},
   "source": [
    "### Q1. What is multithreading in Python? Why is it used? Name the module used to handle threads in Python.\n",
    "Answer\n",
    "Multithreading in Python is a concurrent execution model that allows multiple threads to run in the same process. It is used to perform multiple tasks simultaneously, such as handling I/O operations while computations are running.\n",
    "\n",
    "The module used to handle threads in Python is the `threading` module.\n"
   ]
  },
  {
   "cell_type": "markdown",
   "metadata": {},
   "source": [
    "### Q2. Why is the threading module used? Write the use of the following functions:\n",
    "1. `activeCount()`:\n",
    "   This function returns the number of thread objects that are currently alive.\n",
    "\n",
    "2. `currentThread()`:\n",
    "   This function returns the current thread object, representing the thread from which it is called.\n",
    "\n",
    "3. `enumerate()`:\n",
    "   This function returns a list of all thread objects that are currently alive."
   ]
  },
  {
   "cell_type": "code",
   "execution_count": 1,
   "metadata": {},
   "outputs": [
    {
     "name": "stdout",
     "output_type": "stream",
     "text": [
      "Running thread: Thread-1\n",
      "Active Threads: 6\n",
      "All Threads: [<_MainThread(MainThread, started 5928)>, <Thread(IOPub, started daemon 13192)>, <Heartbeat(Heartbeat, started daemon 10060)>, <ControlThread(Control, started daemon 16128)>, <HistorySavingThread(IPythonHistorySavingThread, started 12440)>, <ParentPollerWindows(Thread-1, started daemon 21848)>]\n"
     ]
    },
    {
     "name": "stderr",
     "output_type": "stream",
     "text": [
      "C:\\Users\\91812\\AppData\\Local\\Temp\\ipykernel_17212\\3128004124.py:4: DeprecationWarning: currentThread() is deprecated, use current_thread() instead\n",
      "  print(f\"Running thread: {threading.currentThread().name}\")\n",
      "C:\\Users\\91812\\AppData\\Local\\Temp\\ipykernel_17212\\3128004124.py:9: DeprecationWarning: activeCount() is deprecated, use active_count() instead\n",
      "  print(f\"Active Threads: {threading.activeCount()}\")\n"
     ]
    }
   ],
   "source": [
    "\n",
    "import threading\n",
    "\n",
    "def task():\n",
    "    print(f\"Running thread: {threading.currentThread().name}\")\n",
    "\n",
    "thread1 = threading.Thread(target=task, name=\"Thread-1\")\n",
    "thread1.start()\n",
    "\n",
    "print(f\"Active Threads: {threading.activeCount()}\")\n",
    "print(f\"All Threads: {threading.enumerate()}\")\n"
   ]
  },
  {
   "cell_type": "markdown",
   "metadata": {},
   "source": [
    "### Q3. Explain the following functions:\n",
    "1. `run()`:\n",
    "   This method represents the thread's activity and is invoked by the `start()` method. It is overridden in subclasses.\n",
    "\n",
    "2. `start()`:\n",
    "   This method begins the thread's execution by invoking the `run()` method in a separate thread.\n",
    "\n",
    "3. `join()`:\n",
    "   This method waits for the thread to complete execution before proceeding with the next lines of code.\n",
    "\n",
    "4. `isAlive()`:\n",
    "   This method checks if the thread is still running.\n",
    "\n",
    "Example:"
   ]
  },
  {
   "cell_type": "code",
   "execution_count": 2,
   "metadata": {},
   "outputs": [
    {
     "name": "stdout",
     "output_type": "stream",
     "text": [
      "0\n",
      "1\n",
      "2\n",
      "3\n",
      "4\n",
      "Thread execution complete.\n"
     ]
    }
   ],
   "source": [
    "import threading\n",
    "import time\n",
    "\n",
    "def print_numbers():\n",
    "    for i in range(5):\n",
    "        print(i)\n",
    "        time.sleep(1)\n",
    "\n",
    "thread = threading.Thread(target=print_numbers)\n",
    "thread.start()\n",
    "\n",
    "thread.join()  # Wait for the thread to finish\n",
    "print(\"Thread execution complete.\")"
   ]
  },
  {
   "cell_type": "code",
   "execution_count": 3,
   "metadata": {},
   "outputs": [
    {
     "name": "stdout",
     "output_type": "stream",
     "text": [
      "Squares: [1, 4, 9, 16, 25]\n",
      "Cubes: [1, 8, 27, 64, 125]\n"
     ]
    }
   ],
   "source": [
    "# Q4\n",
    "import threading\n",
    "\n",
    "def print_squares(numbers):\n",
    "    print(\"Squares:\", [n ** 2 for n in numbers])\n",
    "\n",
    "def print_cubes(numbers):\n",
    "    print(\"Cubes:\", [n ** 3 for n in numbers])\n",
    "\n",
    "numbers = [1, 2, 3, 4, 5]\n",
    "\n",
    "thread1 = threading.Thread(target=print_squares, args=(numbers,))\n",
    "thread2 = threading.Thread(target=print_cubes, args=(numbers,))\n",
    "\n",
    "thread1.start()\n",
    "thread2.start()\n",
    "\n",
    "thread1.join()\n",
    "thread2.join()"
   ]
  },
  {
   "cell_type": "markdown",
   "metadata": {},
   "source": [
    "### Q5. State advantages and disadvantages of multithreading.\n",
    "**Advantages:**\n",
    "1. Improved performance and concurrency for I/O-bound tasks.\n",
    "2. Efficient use of CPU resources.\n",
    "3. Simplifies program structure by dividing tasks into threads.\n",
    "4. Enhances responsiveness in GUI applications.\n",
    "\n",
    "**Disadvantages:**\n",
    "1. Limited performance improvement for CPU-bound tasks due to Python's Global Interpreter Lock (GIL).\n",
    "2. Complexity in debugging and testing due to shared data.\n",
    "3. Potential for race conditions and deadlocks.\n"
   ]
  },
  {
   "cell_type": "markdown",
   "metadata": {},
   "source": [
    "\n",
    "# Q6. Explain deadlocks and race conditions.\n",
    "Deadlocks:\n",
    "A deadlock occurs when two or more threads are waiting for each other to release resources, causing all of them to remain stuck indefinitely. This happens when resources are acquired in a circular wait pattern, and none of the threads can proceed.\n",
    "\n",
    "Race Conditions:\n",
    "A race condition occurs when multiple threads access shared resources simultaneously without proper synchronization, leading to unpredictable and incorrect behavior. The result depends on the timing of thread execution, making the output inconsistent.\n",
    "\n",
    "\n",
    "\n",
    "\n",
    "\n",
    "\n"
   ]
  },
  {
   "cell_type": "markdown",
   "metadata": {},
   "source": []
  }
 ],
 "metadata": {
  "kernelspec": {
   "display_name": "Python 3",
   "language": "python",
   "name": "python3"
  },
  "language_info": {
   "codemirror_mode": {
    "name": "ipython",
    "version": 3
   },
   "file_extension": ".py",
   "mimetype": "text/x-python",
   "name": "python",
   "nbconvert_exporter": "python",
   "pygments_lexer": "ipython3",
   "version": "3.12.1"
  }
 },
 "nbformat": 4,
 "nbformat_minor": 2
}
