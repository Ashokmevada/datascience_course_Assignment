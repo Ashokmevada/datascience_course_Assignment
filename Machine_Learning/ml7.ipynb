{
 "cells": [
  {
   "cell_type": "markdown",
   "metadata": {},
   "source": [
    "# Q1\n",
    "\n",
    "The Pearson correlation coefficient measures the strength and direction of the linear relationship between two continuous variables. It ranges from -1 to 1, where:\n",
    "\n",
    "+1 indicates a perfect positive correlation (as one variable increases, the other increases proportionally).\n",
    "-1 indicates a perfect negative correlation (as one variable increases, the other decreases proportionally).\n",
    "0 indicates no linear correlation (the variables are not linearly related)."
   ]
  },
  {
   "cell_type": "code",
   "execution_count": 17,
   "metadata": {},
   "outputs": [
    {
     "data": {
      "text/plain": [
       "0.9215500132063553"
      ]
     },
     "execution_count": 17,
     "metadata": {},
     "output_type": "execute_result"
    }
   ],
   "source": [
    "import numpy as np\n",
    "\n",
    "\n",
    "study_time = np.array([5, 10, 15, 8, 12])\n",
    "final_exam_scores = np.array([65, 85, 90, 75, 80])\n",
    "\n",
    "np.corrcoef(study_time , final_exam_scores)[0][1]"
   ]
  },
  {
   "cell_type": "markdown",
   "metadata": {},
   "source": [
    "# Q2\n"
   ]
  },
  {
   "cell_type": "code",
   "execution_count": 18,
   "metadata": {},
   "outputs": [
    {
     "data": {
      "text/plain": [
       "0.27152872099918024"
      ]
     },
     "execution_count": 18,
     "metadata": {},
     "output_type": "execute_result"
    }
   ],
   "source": [
    "import pandas as pd\n",
    "import scipy.stats as stats\n",
    "\n",
    "data = { \"sleep_in_hours\" : [7, 6, 8, 5, 7, 6] ,\n",
    "        \n",
    "            \"job_satisfaction\" : [8, 6, 7, 5, 9, 8]\n",
    "            }\n",
    "\n",
    "df = pd.DataFrame(data)\n",
    "\n",
    "rho = stats.spearmanr(df['sleep_in_hours'].rank() , df['job_satisfaction'].rank())\n",
    "\n",
    "rho[1]"
   ]
  },
  {
   "cell_type": "markdown",
   "metadata": {},
   "source": [
    "# Q3"
   ]
  },
  {
   "cell_type": "code",
   "execution_count": 19,
   "metadata": {},
   "outputs": [
    {
     "name": "stdout",
     "output_type": "stream",
     "text": [
      "Pearson correlation coefficient: -0.2443810421792508\n",
      "Spearman's rank correlation coefficient: -0.2727998775934245\n"
     ]
    }
   ],
   "source": [
    "\n",
    "\n",
    "data = {\n",
    "    'hours_of_exercise': [4, 5, 2, 3, 6, 5, 4, 3, 2, 1,\n",
    "                          6, 5, 4, 3, 2, 7, 6, 5, 4, 3,\n",
    "                          8, 7, 6, 5, 4, 9, 8, 7, 6, 5,\n",
    "                          7, 8, 9, 6, 5, 4, 3, 2, 1, 7,\n",
    "                          6, 5, 4, 3, 2, 1, 5, 4, 3, 2],\n",
    "    'bmi': [23.4, 24.1, 25.5, 26.2, 22.8, 28.3, 27.1, 29.8, 24.6, 26.5,\n",
    "            22.1, 23.9, 25.3, 27.7, 24.4, 21.9, 23.8, 26.5, 28.1, 30.2,\n",
    "            23.5, 24.8, 27.2, 29.5, 25.6, 23.1, 25.9, 28.4, 26.3, 22.7,\n",
    "            24.2, 27.6, 25.3, 21.8, 23.9, 26.8, 28.9, 29.1, 21.5, 22.8,\n",
    "            24.7, 27.4, 29.8, 26.5, 24.4, 21.9, 23.5, 26.6, 28.2, 30.4]\n",
    "}\n",
    "\n",
    "df = pd.DataFrame(data)\n",
    "\n",
    "\n",
    "pearson_corr = df['hours_of_exercise'].corr(df['bmi'], method='pearson')\n",
    "\n",
    "\n",
    "spearman_corr = df['hours_of_exercise'].corr(df['bmi'], method='spearman')\n",
    "\n",
    "print(\"Pearson correlation coefficient:\", pearson_corr)\n",
    "print(\"Spearman's rank correlation coefficient:\", spearman_corr)\n",
    "\n",
    "\n"
   ]
  },
  {
   "cell_type": "markdown",
   "metadata": {},
   "source": [
    "# Q4"
   ]
  },
  {
   "cell_type": "code",
   "execution_count": 20,
   "metadata": {},
   "outputs": [
    {
     "data": {
      "text/plain": [
       "-0.20695438224216908"
      ]
     },
     "execution_count": 20,
     "metadata": {},
     "output_type": "execute_result"
    }
   ],
   "source": [
    "\n",
    "\n",
    "data = {\n",
    "    'hours_watching_tv': [3, 2, 4, 5, 1, 3, 2, 4, 6, 2,\n",
    "                          1, 5, 3, 4, 2, 6, 3, 2, 4, 5,\n",
    "                          1, 3, 2, 4, 5, 1, 3, 2, 4, 6,\n",
    "                          2, 1, 5, 3, 4, 2, 6, 3, 2, 4,\n",
    "                          5, 1, 3, 2, 4, 6, 2, 1, 5, 3],\n",
    "    'physical_activity_level': [4, 6, 3, 2, 7, 5, 4, 3, 2, 1,\n",
    "                                6, 2, 4, 3, 5, 2, 4, 6, 3, 2,\n",
    "                                7, 5, 4, 3, 2, 1, 6, 2, 4, 3,\n",
    "                                5, 2, 4, 6, 3, 2, 7, 5, 4, 3,\n",
    "                                2, 1, 6, 2, 4, 3, 5, 2, 4, 6]\n",
    "}\n",
    "\n",
    "df = pd.DataFrame(data)\n",
    "\n",
    "pearson_corr = df['hours_watching_tv'].corr(df['physical_activity_level'], method='pearson')\n",
    "\n",
    "pearson_corr\n"
   ]
  },
  {
   "cell_type": "markdown",
   "metadata": {},
   "source": [
    "# Q5"
   ]
  },
  {
   "cell_type": "code",
   "execution_count": 21,
   "metadata": {},
   "outputs": [
    {
     "data": {
      "text/plain": [
       "0.8332380897952965"
      ]
     },
     "execution_count": 21,
     "metadata": {},
     "output_type": "execute_result"
    }
   ],
   "source": [
    "data = { 'Age': [25,42,37,19,31,28] , 'Brand' : [\"coke\" , \"pepsi\" , \"mountain dew\" , \"coke\" , \"pepsi\" , \"coke\"]}\n",
    "\n",
    "df = pd.DataFrame(data)\n",
    "\n",
    "spearman_corr = df['Age'].corr(df['Brand'] , method='spearman')\n",
    "spearman_corr"
   ]
  },
  {
   "cell_type": "markdown",
   "metadata": {},
   "source": [
    "# Q6"
   ]
  },
  {
   "cell_type": "code",
   "execution_count": 22,
   "metadata": {},
   "outputs": [
    {
     "data": {
      "text/plain": [
       "0.9985526364760994"
      ]
     },
     "execution_count": 22,
     "metadata": {},
     "output_type": "execute_result"
    }
   ],
   "source": [
    "\n",
    "data = {\n",
    "    'sales_calls_per_day': [20, 25, 18, 30, 15, 22, 24, 19, 27, 21,\n",
    "                            23, 17, 28, 16, 26, 29, 24, 20, 22, 25,\n",
    "                            19, 21, 27, 18, 30, 16, 23, 26, 29, 15],\n",
    "    'sales_per_week': [100, 130, 90, 150, 75, 110, 120, 95, 135, 105,\n",
    "                       115, 85, 140, 80, 130, 145, 120, 100, 110, 130,\n",
    "                       95, 105, 135, 90, 150, 80, 115, 130, 145, 75]\n",
    "}\n",
    "\n",
    "df = pd.DataFrame(data)\n",
    "\n",
    "pearson_corr = df['sales_calls_per_day'].corr(df['sales_per_week'], method='pearson')\n",
    "\n",
    "pearson_corr\n"
   ]
  }
 ],
 "metadata": {
  "kernelspec": {
   "display_name": "Python 3.11.4 64-bit",
   "language": "python",
   "name": "python3"
  },
  "language_info": {
   "codemirror_mode": {
    "name": "ipython",
    "version": 3
   },
   "file_extension": ".py",
   "mimetype": "text/x-python",
   "name": "python",
   "nbconvert_exporter": "python",
   "pygments_lexer": "ipython3",
   "version": "3.11.4"
  },
  "orig_nbformat": 4,
  "vscode": {
   "interpreter": {
    "hash": "5238573367df39f7286bb46f9ff5f08f63a01a80960060ce41e3c79b190280fa"
   }
  }
 },
 "nbformat": 4,
 "nbformat_minor": 2
}
