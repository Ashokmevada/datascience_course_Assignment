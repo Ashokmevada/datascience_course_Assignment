{
 "cells": [
  {
   "cell_type": "markdown",
   "id": "ad170e7c",
   "metadata": {},
   "source": [
    "Q1\n",
    "\n",
    "Comments can be used to explain Python code.\n",
    "Comments can be used to make the code more readable.\n",
    "Comments can be used to prevent execution when testing code. \n",
    "\n",
    "#is used for Single line comment "
   ]
  },
  {
   "cell_type": "code",
   "execution_count": 1,
   "id": "6776cf91",
   "metadata": {},
   "outputs": [],
   "source": [
    "#example \n",
    "\n"
   ]
  },
  {
   "cell_type": "markdown",
   "id": "1ce0151d",
   "metadata": {},
   "source": [
    "Q2\n",
    "\n",
    "Variable in python works as a cointainer that stores value.\n",
    "\n",
    "\n",
    "\n"
   ]
  },
  {
   "cell_type": "code",
   "execution_count": 2,
   "id": "37ee2b65",
   "metadata": {},
   "outputs": [
    {
     "data": {
      "text/plain": [
       "'Assignment'"
      ]
     },
     "execution_count": 2,
     "metadata": {},
     "output_type": "execute_result"
    }
   ],
   "source": [
    "#example\n",
    "\n",
    "variable_example = \"Assignment\"\n",
    "variable_example"
   ]
  },
  {
   "cell_type": "markdown",
   "id": "7f346ba4",
   "metadata": {},
   "source": [
    "Q3\n",
    "\n",
    "In python we can convert the data type using 2 ways\n",
    "1. Implicit conversion\n",
    "2. Explicit Conversion\n",
    "\n",
    "In Implicit conversion the python interpreter automatically converts one data type to another.\n",
    "\n",
    "In explicit conoversion the data type is manually changed by the user as per their requirment\n"
   ]
  },
  {
   "cell_type": "code",
   "execution_count": 14,
   "id": "4ec74012",
   "metadata": {},
   "outputs": [
    {
     "name": "stdout",
     "output_type": "stream",
     "text": [
      "20.6 <class 'float'>\n",
      "20 <class 'int'>\n"
     ]
    }
   ],
   "source": [
    "# Implicit example\n",
    "\n",
    "x = 10\n",
    "y = 10.6\n",
    "\n",
    "z = x+y\n",
    "print(z , type(z))\n",
    "\n",
    "#explicit example\n",
    "\n",
    "a = 10\n",
    "b = 10.6\n",
    "c = int(a+b)\n",
    "\n",
    "print(c , type(c))\n",
    "\n"
   ]
  },
  {
   "cell_type": "markdown",
   "id": "7aa8e723",
   "metadata": {},
   "source": [
    "Q4\n",
    "\n",
    "To run python file in command line ,\n",
    "1. Open any text editor\n",
    "2. Write python code\n",
    "3. Save file using .py extension\n",
    "4. Open terminal and navigate to saved file location \n",
    "5. Then in terminal write python file_name.py and hit enter\n",
    "\n"
   ]
  },
  {
   "cell_type": "code",
   "execution_count": 34,
   "id": "76884421",
   "metadata": {},
   "outputs": [
    {
     "data": {
      "text/plain": [
       "[2, 3]"
      ]
     },
     "execution_count": 34,
     "metadata": {},
     "output_type": "execute_result"
    }
   ],
   "source": [
    "#q5\n",
    "\n",
    "my_list = [1,2,3,4,5]\n",
    "my_list[1:3]"
   ]
  },
  {
   "cell_type": "markdown",
   "id": "f9857576",
   "metadata": {},
   "source": [
    "Q6\n",
    "\n",
    "Python complex numbers are numbers of the form a + bj, \n",
    "where a and b are real numbers, \n",
    "and j is the square root of -1.\n",
    "\n"
   ]
  },
  {
   "cell_type": "code",
   "execution_count": 22,
   "id": "8b62793c",
   "metadata": {},
   "outputs": [
    {
     "name": "stdout",
     "output_type": "stream",
     "text": [
      "3.0 5.0 <class 'complex'>\n"
     ]
    }
   ],
   "source": [
    "# example\n",
    "\n",
    "complex_number = 3 + 5j\n",
    "print(complex_number.real , complex_number.imag , type(complex_number))"
   ]
  },
  {
   "cell_type": "code",
   "execution_count": 25,
   "id": "2dc8c31a",
   "metadata": {},
   "outputs": [
    {
     "data": {
      "text/plain": [
       "25"
      ]
     },
     "execution_count": 25,
     "metadata": {},
     "output_type": "execute_result"
    }
   ],
   "source": [
    "#Q7\n",
    "age = 25\n",
    "age"
   ]
  },
  {
   "cell_type": "code",
   "execution_count": 27,
   "id": "71ef726f",
   "metadata": {},
   "outputs": [
    {
     "data": {
      "text/plain": [
       "float"
      ]
     },
     "execution_count": 27,
     "metadata": {},
     "output_type": "execute_result"
    }
   ],
   "source": [
    "#Q8\n",
    "\n",
    "price = 9.99\n",
    "type(price)\n",
    "\n",
    "# price is of float data type\n"
   ]
  },
  {
   "cell_type": "code",
   "execution_count": 31,
   "id": "0dbbd2e0",
   "metadata": {},
   "outputs": [
    {
     "name": "stdout",
     "output_type": "stream",
     "text": [
      "Ashok Mevada Ladaram\n"
     ]
    },
    {
     "data": {
      "text/plain": [
       "'Ashok Mevada Ladaram'"
      ]
     },
     "execution_count": 31,
     "metadata": {},
     "output_type": "execute_result"
    }
   ],
   "source": [
    "#Q9\n",
    "\n",
    "name = 'Ashok Mevada Ladaram'\n",
    "print(name)\n",
    "name"
   ]
  },
  {
   "cell_type": "code",
   "execution_count": 32,
   "id": "1281a457",
   "metadata": {},
   "outputs": [
    {
     "data": {
      "text/plain": [
       "'World'"
      ]
     },
     "execution_count": 32,
     "metadata": {},
     "output_type": "execute_result"
    }
   ],
   "source": [
    "#Q10\n",
    "\n",
    "s1 = 'Hello, World!'\n",
    "s1[7:12]"
   ]
  },
  {
   "cell_type": "code",
   "execution_count": null,
   "id": "b7d226a9",
   "metadata": {},
   "outputs": [],
   "source": [
    "#Q11\n",
    "\n",
    "is_student = True"
   ]
  }
 ],
 "metadata": {
  "kernelspec": {
   "display_name": "Python 3 (ipykernel)",
   "language": "python",
   "name": "python3"
  },
  "language_info": {
   "codemirror_mode": {
    "name": "ipython",
    "version": 3
   },
   "file_extension": ".py",
   "mimetype": "text/x-python",
   "name": "python",
   "nbconvert_exporter": "python",
   "pygments_lexer": "ipython3",
   "version": "3.9.12"
  }
 },
 "nbformat": 4,
 "nbformat_minor": 5
}
