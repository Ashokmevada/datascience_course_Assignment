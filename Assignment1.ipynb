{
 "cells": [
  {
   "cell_type": "code",
   "execution_count": 1,
   "id": "0f1a64f8",
   "metadata": {},
   "outputs": [],
   "source": [
    "#q1\n",
    "\n",
    "string_val = 'Ashok'\n",
    "l = [12,'Ashok' , 58.265]\n",
    "float_val = 2.565\n",
    "tuple_ = ('Ashok' , 'Data science' , 25 , 85.223)"
   ]
  },
  {
   "cell_type": "code",
   "execution_count": 7,
   "id": "290caf5d",
   "metadata": {},
   "outputs": [],
   "source": [
    "#q2\n",
    "\n",
    "var1='' # String data type\n",
    "var2 = '[DS , ML , Python]' # String Data type\n",
    "var3 = ['DS' , 'ML' , 'Python'] #list data type\n",
    "var4 = 1. #float data type\n",
    "\n"
   ]
  },
  {
   "cell_type": "code",
   "execution_count": 16,
   "id": "b0273ff2",
   "metadata": {},
   "outputs": [
    {
     "name": "stdout",
     "output_type": "stream",
     "text": [
      "(i) 5.0\n",
      "(ii) 5\n",
      "(iii) 5\n",
      "(iv) 81\n"
     ]
    }
   ],
   "source": [
    "#q3\n",
    "\n",
    "#(I)  / operator is use to divide and the result obtained is of float type \n",
    "a = 10\n",
    "b = 2\n",
    "print('(i)', a/b)\n",
    "\n",
    "#(II) % known as modulo is used to find the remainder \n",
    "\n",
    "d = 40\n",
    "e = 7\n",
    "print('(ii)', d%e)\n",
    "\n",
    "# (III) // is used to divide the numbers and the result obtained is of int type\n",
    "\n",
    "f = 10\n",
    "g = 2\n",
    "print('(iii)', a//b)\n",
    "\n",
    "# (IV) ** is the operator used for exponential purpose\n",
    "#here for 3 ** 4 is equals to 3*3*3*3 \n",
    "h = 3\n",
    "i = 4\n",
    "\n",
    "print('(iv)', h**i)\n"
   ]
  },
  {
   "cell_type": "code",
   "execution_count": 17,
   "id": "d113dba6",
   "metadata": {},
   "outputs": [
    {
     "name": "stdout",
     "output_type": "stream",
     "text": [
      "1 <class 'int'>\n",
      "2 <class 'int'>\n",
      "3 <class 'int'>\n",
      "4 <class 'int'>\n",
      "5 <class 'int'>\n",
      "Ashok <class 'str'>\n",
      "Data <class 'str'>\n",
      "Science <class 'str'>\n",
      "5.2 <class 'str'>\n",
      "2.63 <class 'float'>\n"
     ]
    }
   ],
   "source": [
    "#q4\n",
    "\n",
    "list1 = [1,2,3,4,5,'Ashok' , 'Data' , 'Science' , '5.2' , 2.63]\n",
    "\n",
    "for i in list1:\n",
    "    print(i , type(i))\n"
   ]
  },
  {
   "cell_type": "code",
   "execution_count": 20,
   "id": "8bec46f2",
   "metadata": {},
   "outputs": [
    {
     "name": "stdout",
     "output_type": "stream",
     "text": [
      "Number is purely divisible and  2  times it is divisible\n"
     ]
    }
   ],
   "source": [
    "#q5\n",
    "\n",
    "a = 50\n",
    "b = 5\n",
    "result = 0;\n",
    "\n",
    "if(a%b == 0):\n",
    "    \n",
    "    while(a%b == 0):\n",
    "        \n",
    "        result+=1\n",
    "        a = a//b\n",
    "    print(\"Number is purely divisible and \" , result , \" times it is divisible\")    \n",
    "else :\n",
    "    \n",
    "    print(\"Number is not Divisible\")\n",
    "        \n",
    "    \n",
    "    \n"
   ]
  },
  {
   "cell_type": "code",
   "execution_count": 21,
   "id": "5e216de4",
   "metadata": {},
   "outputs": [
    {
     "name": "stdout",
     "output_type": "stream",
     "text": [
      "1  is not divisble by 3\n",
      "2  is not divisble by 3\n",
      "3  is divisble by 3\n",
      "4  is not divisble by 3\n",
      "5  is not divisble by 3\n",
      "6  is divisble by 3\n",
      "7  is not divisble by 3\n",
      "8  is not divisble by 3\n",
      "9  is divisble by 3\n",
      "10  is not divisble by 3\n",
      "11  is not divisble by 3\n",
      "12  is divisble by 3\n",
      "13  is not divisble by 3\n",
      "14  is not divisble by 3\n",
      "15  is divisble by 3\n",
      "16  is not divisble by 3\n",
      "17  is not divisble by 3\n",
      "18  is divisble by 3\n",
      "19  is not divisble by 3\n",
      "20  is not divisble by 3\n",
      "21  is divisble by 3\n",
      "22  is not divisble by 3\n",
      "23  is not divisble by 3\n",
      "24  is divisble by 3\n",
      "25  is not divisble by 3\n"
     ]
    }
   ],
   "source": [
    "#q6\n",
    "\n",
    "list1 = [1,2,3,4,5,6,7,8,9,10,11,12,13,14,15,16,17,18,19,20,21,22,23,24,25]\n",
    "\n",
    "for i in list1:\n",
    "    \n",
    "    if(i%3==0):\n",
    "        print(i , \" is divisble by 3\")\n",
    "    else:\n",
    "        print(i , \" is not divisble by 3\")"
   ]
  },
  {
   "cell_type": "code",
   "execution_count": null,
   "id": "29b80efa",
   "metadata": {},
   "outputs": [],
   "source": [
    "#q7"
   ]
  },
  {
   "cell_type": "markdown",
   "id": "64360e82",
   "metadata": {},
   "source": [
    "Mutable:- Mutable data types means on updating it does not               create any new object and assign it but it assign             the new value to the same object \n",
    "Example :- list\n",
    "\n",
    "Immutable:- Immutable data types means on updating the value               it creates the new object and assign the updated               value to it.Immutable data types can not be                   updated.\n",
    "Example:- string data type , tuple\n",
    "   "
   ]
  },
  {
   "cell_type": "code",
   "execution_count": 23,
   "id": "52ffa5d4",
   "metadata": {},
   "outputs": [
    {
     "data": {
      "text/plain": [
       "['Mevada', 85]"
      ]
     },
     "execution_count": 23,
     "metadata": {},
     "output_type": "execute_result"
    }
   ],
   "source": [
    "#Mutable Example\n",
    "\n",
    "list1 = ['Ashok' , 85]\n",
    "list1[0] = 'Mevada'\n",
    "list1"
   ]
  },
  {
   "cell_type": "code",
   "execution_count": 25,
   "id": "84fc827c",
   "metadata": {},
   "outputs": [
    {
     "ename": "TypeError",
     "evalue": "'str' object does not support item assignment",
     "output_type": "error",
     "traceback": [
      "\u001b[1;31m---------------------------------------------------------------------------\u001b[0m",
      "\u001b[1;31mTypeError\u001b[0m                                 Traceback (most recent call last)",
      "Input \u001b[1;32mIn [25]\u001b[0m, in \u001b[0;36m<cell line: 3>\u001b[1;34m()\u001b[0m\n\u001b[0;32m      1\u001b[0m \u001b[38;5;66;03m#Immutable example\u001b[39;00m\n\u001b[1;32m----> 3\u001b[0m list1[\u001b[38;5;241m0\u001b[39m][\u001b[38;5;241m2\u001b[39m] \u001b[38;5;241m=\u001b[39m \u001b[38;5;124m'\u001b[39m\u001b[38;5;124mT\u001b[39m\u001b[38;5;124m'\u001b[39m\n",
      "\u001b[1;31mTypeError\u001b[0m: 'str' object does not support item assignment"
     ]
    }
   ],
   "source": [
    "#Immutable example\n",
    "\n",
    "list1[0][2] = 'T'"
   ]
  }
 ],
 "metadata": {
  "kernelspec": {
   "display_name": "Python 3 (ipykernel)",
   "language": "python",
   "name": "python3"
  },
  "language_info": {
   "codemirror_mode": {
    "name": "ipython",
    "version": 3
   },
   "file_extension": ".py",
   "mimetype": "text/x-python",
   "name": "python",
   "nbconvert_exporter": "python",
   "pygments_lexer": "ipython3",
   "version": "3.9.12"
  }
 },
 "nbformat": 4,
 "nbformat_minor": 5
}
