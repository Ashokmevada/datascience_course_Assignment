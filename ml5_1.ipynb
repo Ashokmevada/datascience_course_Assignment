{
 "cells": [
  {
   "cell_type": "markdown",
   "metadata": {},
   "source": [
    "1. **What is Bayes' theorem?**\n",
    "   Bayes' theorem is a fundamental concept in probability theory and statistics. It describes how to update the probability for a hypothesis (an event or proposition) based on new evidence. It provides a way to calculate conditional probabilities, taking into account prior knowledge and new data.\n",
    "\n",
    "2. **What is the formula for Bayes' theorem?**\n",
    "   Bayes' theorem is expressed as:\n",
    "   P(A|B) = (P(B|A) * P(A))/{P(B)} \n",
    "   Where:\n",
    "   - P(A|B) is the posterior probability of event A given evidence B.\n",
    "   - P(B|A) is the probability of evidence B given event A.\n",
    "   - P(A) is the prior probability of event A.\n",
    "   - P(B) is the total probability of evidence B.\n",
    "\n",
    "3. **How is Bayes' theorem used in practice?**\n",
    "   Bayes' theorem is widely used in various fields, including machine learning, spam email classification, medical diagnosis, and more. It's used to update beliefs or probabilities based on new information or evidence. In machine learning, it's a core component of the Naive Bayes algorithm, which is used for classification tasks.\n",
    "\n",
    "4. **What is the relationship between Bayes' theorem and conditional probability?**\n",
    "   Bayes' theorem provides a way to calculate conditional probabilities. It describes how to find the probability of an event (A) given some observed evidence (B), taking into account the prior probability of A and the likelihood of B given A. In essence, it formalizes the concept of conditional probability.\n",
    "\n",
    "5. **How do you choose which type of Naive Bayes classifier to use for any given problem?**\n",
    "   The choice of which type of Naive Bayes classifier to use depends on the nature of the data and the problem at hand:\n",
    "   - **Gaussian Naive Bayes:** It's suitable for continuous data where features follow a Gaussian (normal) distribution.\n",
    "   - **Multinomial Naive Bayes:** It's used for discrete data, especially when dealing with text data or categorical features.\n",
    "   - **Bernoulli Naive Bayes:** It's appropriate when dealing with binary data or features that follow a Bernoulli distribution (e.g., presence/absence of a feature).\n",
    "   The choice should be based on an understanding of the data's distribution and the problem's requirements.\n"
   ]
  },
  {
   "cell_type": "markdown",
   "metadata": {},
   "source": [
    "6. **Assignment:**\n",
    "   \n",
    "   p(A|(x1=3, x2=4)) > p(B|(x1=3,x2=4))\n",
    "\n",
    "   Therefore class A will be selected as output"
   ]
  },
  {
   "cell_type": "markdown",
   "metadata": {},
   "source": []
  }
 ],
 "metadata": {
  "language_info": {
   "name": "python"
  },
  "orig_nbformat": 4
 },
 "nbformat": 4,
 "nbformat_minor": 2
}
