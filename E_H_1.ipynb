{
 "cells": [
  {
   "cell_type": "markdown",
   "metadata": {},
   "source": [
    "### Q1. What is an Exception in Python? Write the difference between Exceptions and Syntax errors.\n",
    "Answer\n",
    "An Exception is an event that occurs during the execution of a program that disrupts its normal flow.\n",
    "Syntax errors occur due to incorrect syntax, whereas exceptions occur during runtime.\n",
    "\n",
    "Syntax Error Example:\n",
    "print(Hello)  # Missing quotes causes SyntaxError\n",
    "\n"
   ]
  },
  {
   "cell_type": "code",
   "execution_count": 4,
   "metadata": {},
   "outputs": [
    {
     "name": "stdout",
     "output_type": "stream",
     "text": [
      "Cannot divide by zero!\n"
     ]
    }
   ],
   "source": [
    "\n",
    "try:\n",
    "    result = 10 / 0\n",
    "except ZeroDivisionError:\n",
    "    print(\"Cannot divide by zero!\")"
   ]
  },
  {
   "cell_type": "markdown",
   "metadata": {},
   "source": [
    "### Q2. What happens when an exception is not handled? Explain with an example.\n",
    "Answer\n",
    "If an exception is not handled, the program terminates abruptly, and the error traceback is displayed.\n",
    "\n"
   ]
  },
  {
   "cell_type": "code",
   "execution_count": null,
   "metadata": {},
   "outputs": [],
   "source": [
    "\n",
    "result = 10 / 0  # This will raise ZeroDivisionError and terminate the program"
   ]
  },
  {
   "cell_type": "markdown",
   "metadata": {},
   "source": [
    "### Q3. Which Python statements are used to catch and handle exceptions? Explain with an example.\n",
    "Answer\n",
    "Python uses the `try` and `except` statements to catch and handle exceptions.\n"
   ]
  },
  {
   "cell_type": "code",
   "execution_count": 8,
   "metadata": {},
   "outputs": [
    {
     "name": "stdout",
     "output_type": "stream",
     "text": [
      "You entered: -9\n"
     ]
    }
   ],
   "source": [
    "\n",
    "try:\n",
    "    number = -9\n",
    "    print(f\"You entered: {number}\")\n",
    "except ValueError:\n",
    "    print(\"Invalid input! Please enter a valid integer.\")"
   ]
  },
  {
   "cell_type": "markdown",
   "metadata": {},
   "source": [
    "### Q4. Explain with an example: try and else, finally, raise\n",
    "Answer\n",
    "1. `try` and `else`:\n",
    "The `else` block is executed if no exception occurs in the `try` block.\n",
    "\n",
    "try:\n",
    "    number = int(input(\"Enter a number: \"))\n",
    "except ValueError:\n",
    "    print(\"Invalid input!\")\n",
    "else:\n",
    "    print(f\"The entered number is {number}\")\n",
    "\n",
    "2. `finally`:\n",
    "The `finally` block always executes, regardless of whether an exception occurs or not.\n",
    "\n",
    "try:\n",
    "    result = 10 / 2\n",
    "except ZeroDivisionError:\n",
    "    print(\"Cannot divide by zero.\")\n",
    "finally:\n",
    "    print(\"Execution of the try block is complete.\")\n",
    "\n",
    "3. `raise`:\n",
    "The `raise` statement is used to explicitly raise an exception.\n",
    "\n",
    "def check_positive(number):\n",
    "    if number < 0:\n",
    "        raise ValueError(\"The number must be positive.\")\n",
    "    return number\n",
    "\n",
    "try:\n",
    "    print(check_positive(-5))\n",
    "except ValueError as e:\n",
    "    print(e)"
   ]
  },
  {
   "cell_type": "markdown",
   "metadata": {},
   "source": [
    "### Q5. What are Custom Exceptions in Python? Why do we need Custom Exceptions? Explain with an example.\n",
    "Answer\n",
    "Custom exceptions are user-defined exceptions that extend Python's built-in Exception class.\n",
    "They are useful for defining specific error types for better error handling and code clarity.\n"
   ]
  },
  {
   "cell_type": "code",
   "execution_count": 1,
   "metadata": {},
   "outputs": [
    {
     "name": "stdout",
     "output_type": "stream",
     "text": [
      "Negative number detected.\n"
     ]
    }
   ],
   "source": [
    "class NegativeNumberError(Exception):\n",
    "    \"\"\"Exception raised when a number is negative.\"\"\"\n",
    "    pass\n",
    "\n",
    "def check_positive(number):\n",
    "    if number < 0:\n",
    "        raise NegativeNumberError(\"Negative number detected.\")\n",
    "    return number\n",
    "\n",
    "try:\n",
    "    print(check_positive(-5))\n",
    "except NegativeNumberError as e:\n",
    "    print(e)"
   ]
  },
  {
   "cell_type": "markdown",
   "metadata": {},
   "source": [
    "### Q6. Create a custom exception class. Use this class to handle an exception."
   ]
  },
  {
   "cell_type": "code",
   "execution_count": 3,
   "metadata": {},
   "outputs": [
    {
     "name": "stdout",
     "output_type": "stream",
     "text": [
      "Insufficient balance for the withdrawal.\n"
     ]
    }
   ],
   "source": [
    "class InsufficientBalanceError(Exception):\n",
    "    \"\"\"Exception raised for insufficient balance in an account.\"\"\"\n",
    "    pass\n",
    "\n",
    "def withdraw(balance, amount):\n",
    "    if amount > balance:\n",
    "        raise InsufficientBalanceError(\"Insufficient balance for the withdrawal.\")\n",
    "    balance -= amount\n",
    "    return balance\n",
    "\n",
    "\n",
    "try:\n",
    "    current_balance = 500\n",
    "    print(f\"Remaining balance: {withdraw(current_balance, 600)}\")\n",
    "except InsufficientBalanceError as e:\n",
    "    print(e)\n"
   ]
  }
 ],
 "metadata": {
  "kernelspec": {
   "display_name": "Python 3",
   "language": "python",
   "name": "python3"
  },
  "language_info": {
   "codemirror_mode": {
    "name": "ipython",
    "version": 3
   },
   "file_extension": ".py",
   "mimetype": "text/x-python",
   "name": "python",
   "nbconvert_exporter": "python",
   "pygments_lexer": "ipython3",
   "version": "3.12.1"
  }
 },
 "nbformat": 4,
 "nbformat_minor": 2
}
